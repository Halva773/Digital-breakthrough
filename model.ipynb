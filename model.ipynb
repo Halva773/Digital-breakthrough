{
 "cells": [
  {
   "cell_type": "code",
   "execution_count": 1,
   "id": "601f6ca3-eef7-43aa-ba33-f950ad47f409",
   "metadata": {},
   "outputs": [],
   "source": [
    "import numpy as np\n",
    "import pandas as pd\n",
    "import pyedflib\n",
    "import tensorflow as tf\n",
    "from tensorflow.keras.models import Sequential\n",
    "from tensorflow.keras.layers import Input, Bidirectional, LSTM, Dropout, Flatten, Dense"
   ]
  },
  {
   "cell_type": "code",
   "execution_count": 2,
   "id": "07d949a9-a820-4200-b21e-726edbd06912",
   "metadata": {},
   "outputs": [],
   "source": [
    "def get_dataset(name):\n",
    "    #Загружаем датасет\n",
    "    def read_dataset(file_path):\n",
    "        edf_file = pyedflib.EdfReader(file_path)\n",
    "        n_signals = edf_file.signals_in_file\n",
    "        signal_labels = edf_file.getSignalLabels()\n",
    "        signals = [edf_file.readSignal(i) for i in range(n_signals)]\n",
    "        edf_file.close()\n",
    "        print('Сигналов обнаружено: ', n_signals)\n",
    "        return signal_labels, signals\n",
    "\n",
    "    def read_txt_markers(file_path):\n",
    "        with open(file_path, 'r') as file:\n",
    "            labels = file.read().splitlines()\n",
    "        return labels\n",
    "    \n",
    "    def convert_to_sec(time: str):\n",
    "        s = list(map(int, time.split(':')))\n",
    "        return s[0]*3600 + s[1] * 60 + s[2]\n",
    "\n",
    "    def get_markered_dataset(data_file_path, labels_file_path):\n",
    "        signal_labels, signals = read_dataset(data_file_path)\n",
    "        signals = np.array(signals)\n",
    "        data = pd.DataFrame(signals).T.rename(columns={i: signal_labels[i] for i in range(len(signal_labels))})\n",
    "        \n",
    "        markers = read_txt_markers(labels_file_path)[1:]\n",
    "        markers = [line.split('\\t') for line in markers]\n",
    "        markers = [[line[0], convert_to_sec(line[1])*400, line[2]] for line in markers]\n",
    "        \n",
    "        markers_df = pd.DataFrame(markers, columns=['id', 'time', 'marker'])\n",
    "        markers_df['time'] = markers_df['time'].astype(int)\n",
    "    \n",
    "        data['target'] = None\n",
    "    \n",
    "        for i in range(0, len(markers_df), 2):\n",
    "            start_marker = markers_df.iloc[i]\n",
    "            end_marker = markers_df.iloc[i + 1]\n",
    "            if start_marker['marker'].startswith('ds'):\n",
    "                mask = list(range(start_marker.time, end_marker.time))\n",
    "                data.loc[mask, 'target'] = 'ds'\n",
    "            elif start_marker['marker'].startswith('is'):\n",
    "                mask = list(range(start_marker.time, end_marker.time))\n",
    "                data.loc[mask, 'target'] = 'is'\n",
    "            elif start_marker['marker'].startswith('swd'):\n",
    "                mask = list(range(start_marker.time, end_marker.time))\n",
    "                data.loc[mask, 'target'] = 'swd'\n",
    "        percentage_marked = data[data['target'].notna()].shape[0]/data.shape[0]\n",
    "        print(f'Размечено {round(percentage_marked, 2)} данных')\n",
    "        return data\n",
    "\n",
    "    def load_marked_dataset(file, folder='ECoG_fully_marked_(4+2 files, 6 h each)', base_path=r\"Downloads/train_dataset_minzdrav_train\"):\n",
    "        dataset_file_path = fr\"{base_path}/{folder}/{file}.edf\"\n",
    "        markers_file_path = fr\"{base_path}/{folder}/{file}.txt\"\n",
    "        dataset = get_markered_dataset(dataset_file_path, markers_file_path)\n",
    "        return dataset\n",
    "\n",
    "    dataset = load_marked_dataset(name)\n",
    "    dataset = dataset[dataset['target'].notna()]\n",
    "    return dataset"
   ]
  },
  {
   "cell_type": "code",
   "execution_count": 4,
   "id": "74e3fc83-fbe9-4468-bd7a-7eb9ab23c767",
   "metadata": {},
   "outputs": [
    {
     "name": "stdout",
     "output_type": "stream",
     "text": [
      "Сигналов обнаружено:  3\n",
      "Размечено 0.42 данных\n",
      "Сигналов обнаружено:  3\n",
      "Размечено 0.25 данных\n",
      "Сигналов обнаружено:  3\n",
      "Размечено 0.22 данных\n",
      "Сигналов обнаружено:  3\n",
      "Размечено 0.23 данных\n",
      "Сигналов обнаружено:  3\n",
      "Размечено 0.34 данных\n"
     ]
    },
    {
     "data": {
      "text/html": [
       "<div>\n",
       "<style scoped>\n",
       "    .dataframe tbody tr th:only-of-type {\n",
       "        vertical-align: middle;\n",
       "    }\n",
       "\n",
       "    .dataframe tbody tr th {\n",
       "        vertical-align: top;\n",
       "    }\n",
       "\n",
       "    .dataframe thead th {\n",
       "        text-align: right;\n",
       "    }\n",
       "</style>\n",
       "<table border=\"1\" class=\"dataframe\">\n",
       "  <thead>\n",
       "    <tr style=\"text-align: right;\">\n",
       "      <th></th>\n",
       "      <th>FrL</th>\n",
       "      <th>FrR</th>\n",
       "      <th>OcR</th>\n",
       "      <th>target</th>\n",
       "    </tr>\n",
       "  </thead>\n",
       "  <tbody>\n",
       "    <tr>\n",
       "      <th>0</th>\n",
       "      <td>-0.167625</td>\n",
       "      <td>-0.125625</td>\n",
       "      <td>-0.089688</td>\n",
       "      <td>ds</td>\n",
       "    </tr>\n",
       "    <tr>\n",
       "      <th>1</th>\n",
       "      <td>-0.175687</td>\n",
       "      <td>-0.100250</td>\n",
       "      <td>-0.038562</td>\n",
       "      <td>ds</td>\n",
       "    </tr>\n",
       "    <tr>\n",
       "      <th>2</th>\n",
       "      <td>-0.176687</td>\n",
       "      <td>-0.123250</td>\n",
       "      <td>-0.039438</td>\n",
       "      <td>ds</td>\n",
       "    </tr>\n",
       "    <tr>\n",
       "      <th>3</th>\n",
       "      <td>-0.174375</td>\n",
       "      <td>-0.127812</td>\n",
       "      <td>-0.014688</td>\n",
       "      <td>ds</td>\n",
       "    </tr>\n",
       "    <tr>\n",
       "      <th>4</th>\n",
       "      <td>-0.138375</td>\n",
       "      <td>-0.085625</td>\n",
       "      <td>0.032250</td>\n",
       "      <td>ds</td>\n",
       "    </tr>\n",
       "    <tr>\n",
       "      <th>...</th>\n",
       "      <td>...</td>\n",
       "      <td>...</td>\n",
       "      <td>...</td>\n",
       "      <td>...</td>\n",
       "    </tr>\n",
       "    <tr>\n",
       "      <th>12613995</th>\n",
       "      <td>-0.090625</td>\n",
       "      <td>0.000937</td>\n",
       "      <td>-0.033250</td>\n",
       "      <td>swd</td>\n",
       "    </tr>\n",
       "    <tr>\n",
       "      <th>12613996</th>\n",
       "      <td>-0.059188</td>\n",
       "      <td>0.032938</td>\n",
       "      <td>0.000438</td>\n",
       "      <td>swd</td>\n",
       "    </tr>\n",
       "    <tr>\n",
       "      <th>12613997</th>\n",
       "      <td>-0.056688</td>\n",
       "      <td>0.031000</td>\n",
       "      <td>-0.014563</td>\n",
       "      <td>swd</td>\n",
       "    </tr>\n",
       "    <tr>\n",
       "      <th>12613998</th>\n",
       "      <td>-0.047563</td>\n",
       "      <td>0.041250</td>\n",
       "      <td>-0.027938</td>\n",
       "      <td>swd</td>\n",
       "    </tr>\n",
       "    <tr>\n",
       "      <th>12613999</th>\n",
       "      <td>-0.018500</td>\n",
       "      <td>0.047000</td>\n",
       "      <td>-0.025750</td>\n",
       "      <td>swd</td>\n",
       "    </tr>\n",
       "  </tbody>\n",
       "</table>\n",
       "<p>12614000 rows × 4 columns</p>\n",
       "</div>"
      ],
      "text/plain": [
       "               FrL       FrR       OcR target\n",
       "0        -0.167625 -0.125625 -0.089688     ds\n",
       "1        -0.175687 -0.100250 -0.038562     ds\n",
       "2        -0.176687 -0.123250 -0.039438     ds\n",
       "3        -0.174375 -0.127812 -0.014688     ds\n",
       "4        -0.138375 -0.085625  0.032250     ds\n",
       "...            ...       ...       ...    ...\n",
       "12613995 -0.090625  0.000937 -0.033250    swd\n",
       "12613996 -0.059188  0.032938  0.000438    swd\n",
       "12613997 -0.056688  0.031000 -0.014563    swd\n",
       "12613998 -0.047563  0.041250 -0.027938    swd\n",
       "12613999 -0.018500  0.047000 -0.025750    swd\n",
       "\n",
       "[12614000 rows x 4 columns]"
      ]
     },
     "execution_count": 4,
     "metadata": {},
     "output_type": "execute_result"
    }
   ],
   "source": [
    "dataset_names = ['Ati4x1_15m_BL_6h', \n",
    "                 'Ati4x1_15m_Dex003(Pharm!)_6h', \n",
    "                 'Ati4x1_15m_H2O_6h', \n",
    "                 'Ati4x3_12m_BL_6h',\n",
    "                 'Ati4x6_14m_BL_6h']\n",
    "#'Ati4x3_9m_Xyl01(Pharm!)_6h', \n",
    "dataset_list = []\n",
    "for dataset_name in dataset_names:\n",
    "    dataset = get_dataset(dataset_name)\n",
    "    dataset = dataset[dataset['target'].notna()]\n",
    "    dataset_list.append(dataset)\n",
    "    \n",
    "all_datas = pd.concat(dataset_list, ignore_index=True)\n",
    "all_datas"
   ]
  },
  {
   "cell_type": "code",
   "execution_count": 5,
   "id": "ff3233ea-be66-4848-9f6d-127a4e0c52ee",
   "metadata": {},
   "outputs": [
    {
     "name": "stderr",
     "output_type": "stream",
     "text": [
      "C:\\Users\\HUAWEI\\AppData\\Local\\Temp\\ipykernel_8708\\3848684522.py:1: FutureWarning: Downcasting behavior in `replace` is deprecated and will be removed in a future version. To retain the old behavior, explicitly call `result.infer_objects(copy=False)`. To opt-in to the future behavior, set `pd.set_option('future.no_silent_downcasting', True)`\n",
      "  all_datas['target'] = all_datas['target'].replace({'ds': 0, 'is': 1, 'swd': 2})\n"
     ]
    }
   ],
   "source": [
    "all_datas['target'] = all_datas['target'].replace({'ds': 0, 'is': 1, 'swd': 2})"
   ]
  },
  {
   "cell_type": "code",
   "execution_count": null,
   "id": "cc843ab5-9031-4e7d-89da-97a4205eb2d1",
   "metadata": {},
   "outputs": [],
   "source": [
    "def create_sequences(X, y, seq_length):\n",
    "    X_seq, y_seq = [], []\n",
    "    \n",
    "    # Сбрасываем индексы в y, чтобы они совпадали с индексами X\n",
    "    y = y.reset_index(drop=True)\n",
    "    for i in range(len(X) - seq_length + 1):\n",
    "        X_seq.append(X[i:i + seq_length])\n",
    "        y_seq.append(y[i + seq_length - 1])\n",
    "        \n",
    "    return np.array(X_seq), np.array(y_seq)\n",
    "   "
   ]
  },
  {
   "cell_type": "code",
   "execution_count": 10,
   "id": "65c56aac-2d27-4f19-b752-e38234ebda67",
   "metadata": {},
   "outputs": [
    {
     "name": "stdout",
     "output_type": "stream",
     "text": [
      "Форма X: (63070, 200, 3)\n",
      "Форма y: (63070,)\n"
     ]
    },
    {
     "data": {
      "text/html": [
       "<pre style=\"white-space:pre;overflow-x:auto;line-height:normal;font-family:Menlo,'DejaVu Sans Mono',consolas,'Courier New',monospace\"><span style=\"font-weight: bold\">Model: \"sequential_4\"</span>\n",
       "</pre>\n"
      ],
      "text/plain": [
       "\u001b[1mModel: \"sequential_4\"\u001b[0m\n"
      ]
     },
     "metadata": {},
     "output_type": "display_data"
    },
    {
     "data": {
      "text/html": [
       "<pre style=\"white-space:pre;overflow-x:auto;line-height:normal;font-family:Menlo,'DejaVu Sans Mono',consolas,'Courier New',monospace\">┏━━━━━━━━━━━━━━━━━━━━━━━━━━━━━━━━━━━━━━┳━━━━━━━━━━━━━━━━━━━━━━━━━━━━━┳━━━━━━━━━━━━━━━━━┓\n",
       "┃<span style=\"font-weight: bold\"> Layer (type)                         </span>┃<span style=\"font-weight: bold\"> Output Shape                </span>┃<span style=\"font-weight: bold\">         Param # </span>┃\n",
       "┡━━━━━━━━━━━━━━━━━━━━━━━━━━━━━━━━━━━━━━╇━━━━━━━━━━━━━━━━━━━━━━━━━━━━━╇━━━━━━━━━━━━━━━━━┩\n",
       "│ bidirectional_4 (<span style=\"color: #0087ff; text-decoration-color: #0087ff\">Bidirectional</span>)      │ (<span style=\"color: #00d7ff; text-decoration-color: #00d7ff\">None</span>, <span style=\"color: #00af00; text-decoration-color: #00af00\">200</span>, <span style=\"color: #00af00; text-decoration-color: #00af00\">400</span>)            │         <span style=\"color: #00af00; text-decoration-color: #00af00\">326,400</span> │\n",
       "├──────────────────────────────────────┼─────────────────────────────┼─────────────────┤\n",
       "│ dropout_2 (<span style=\"color: #0087ff; text-decoration-color: #0087ff\">Dropout</span>)                  │ (<span style=\"color: #00d7ff; text-decoration-color: #00d7ff\">None</span>, <span style=\"color: #00af00; text-decoration-color: #00af00\">200</span>, <span style=\"color: #00af00; text-decoration-color: #00af00\">400</span>)            │               <span style=\"color: #00af00; text-decoration-color: #00af00\">0</span> │\n",
       "├──────────────────────────────────────┼─────────────────────────────┼─────────────────┤\n",
       "│ flatten_3 (<span style=\"color: #0087ff; text-decoration-color: #0087ff\">Flatten</span>)                  │ (<span style=\"color: #00d7ff; text-decoration-color: #00d7ff\">None</span>, <span style=\"color: #00af00; text-decoration-color: #00af00\">80000</span>)               │               <span style=\"color: #00af00; text-decoration-color: #00af00\">0</span> │\n",
       "├──────────────────────────────────────┼─────────────────────────────┼─────────────────┤\n",
       "│ dense_4 (<span style=\"color: #0087ff; text-decoration-color: #0087ff\">Dense</span>)                      │ (<span style=\"color: #00d7ff; text-decoration-color: #00d7ff\">None</span>, <span style=\"color: #00af00; text-decoration-color: #00af00\">3</span>)                   │         <span style=\"color: #00af00; text-decoration-color: #00af00\">240,003</span> │\n",
       "└──────────────────────────────────────┴─────────────────────────────┴─────────────────┘\n",
       "</pre>\n"
      ],
      "text/plain": [
       "┏━━━━━━━━━━━━━━━━━━━━━━━━━━━━━━━━━━━━━━┳━━━━━━━━━━━━━━━━━━━━━━━━━━━━━┳━━━━━━━━━━━━━━━━━┓\n",
       "┃\u001b[1m \u001b[0m\u001b[1mLayer (type)                        \u001b[0m\u001b[1m \u001b[0m┃\u001b[1m \u001b[0m\u001b[1mOutput Shape               \u001b[0m\u001b[1m \u001b[0m┃\u001b[1m \u001b[0m\u001b[1m        Param #\u001b[0m\u001b[1m \u001b[0m┃\n",
       "┡━━━━━━━━━━━━━━━━━━━━━━━━━━━━━━━━━━━━━━╇━━━━━━━━━━━━━━━━━━━━━━━━━━━━━╇━━━━━━━━━━━━━━━━━┩\n",
       "│ bidirectional_4 (\u001b[38;5;33mBidirectional\u001b[0m)      │ (\u001b[38;5;45mNone\u001b[0m, \u001b[38;5;34m200\u001b[0m, \u001b[38;5;34m400\u001b[0m)            │         \u001b[38;5;34m326,400\u001b[0m │\n",
       "├──────────────────────────────────────┼─────────────────────────────┼─────────────────┤\n",
       "│ dropout_2 (\u001b[38;5;33mDropout\u001b[0m)                  │ (\u001b[38;5;45mNone\u001b[0m, \u001b[38;5;34m200\u001b[0m, \u001b[38;5;34m400\u001b[0m)            │               \u001b[38;5;34m0\u001b[0m │\n",
       "├──────────────────────────────────────┼─────────────────────────────┼─────────────────┤\n",
       "│ flatten_3 (\u001b[38;5;33mFlatten\u001b[0m)                  │ (\u001b[38;5;45mNone\u001b[0m, \u001b[38;5;34m80000\u001b[0m)               │               \u001b[38;5;34m0\u001b[0m │\n",
       "├──────────────────────────────────────┼─────────────────────────────┼─────────────────┤\n",
       "│ dense_4 (\u001b[38;5;33mDense\u001b[0m)                      │ (\u001b[38;5;45mNone\u001b[0m, \u001b[38;5;34m3\u001b[0m)                   │         \u001b[38;5;34m240,003\u001b[0m │\n",
       "└──────────────────────────────────────┴─────────────────────────────┴─────────────────┘\n"
      ]
     },
     "metadata": {},
     "output_type": "display_data"
    },
    {
     "data": {
      "text/html": [
       "<pre style=\"white-space:pre;overflow-x:auto;line-height:normal;font-family:Menlo,'DejaVu Sans Mono',consolas,'Courier New',monospace\"><span style=\"font-weight: bold\"> Total params: </span><span style=\"color: #00af00; text-decoration-color: #00af00\">566,403</span> (2.16 MB)\n",
       "</pre>\n"
      ],
      "text/plain": [
       "\u001b[1m Total params: \u001b[0m\u001b[38;5;34m566,403\u001b[0m (2.16 MB)\n"
      ]
     },
     "metadata": {},
     "output_type": "display_data"
    },
    {
     "data": {
      "text/html": [
       "<pre style=\"white-space:pre;overflow-x:auto;line-height:normal;font-family:Menlo,'DejaVu Sans Mono',consolas,'Courier New',monospace\"><span style=\"font-weight: bold\"> Trainable params: </span><span style=\"color: #00af00; text-decoration-color: #00af00\">566,403</span> (2.16 MB)\n",
       "</pre>\n"
      ],
      "text/plain": [
       "\u001b[1m Trainable params: \u001b[0m\u001b[38;5;34m566,403\u001b[0m (2.16 MB)\n"
      ]
     },
     "metadata": {},
     "output_type": "display_data"
    },
    {
     "data": {
      "text/html": [
       "<pre style=\"white-space:pre;overflow-x:auto;line-height:normal;font-family:Menlo,'DejaVu Sans Mono',consolas,'Courier New',monospace\"><span style=\"font-weight: bold\"> Non-trainable params: </span><span style=\"color: #00af00; text-decoration-color: #00af00\">0</span> (0.00 B)\n",
       "</pre>\n"
      ],
      "text/plain": [
       "\u001b[1m Non-trainable params: \u001b[0m\u001b[38;5;34m0\u001b[0m (0.00 B)\n"
      ]
     },
     "metadata": {},
     "output_type": "display_data"
    },
    {
     "name": "stdout",
     "output_type": "stream",
     "text": [
      "Epoch 1/10\n",
      "\u001b[1m1577/1577\u001b[0m \u001b[32m━━━━━━━━━━━━━━━━━━━━\u001b[0m\u001b[37m\u001b[0m \u001b[1m347s\u001b[0m 217ms/step - accuracy: 0.8953 - loss: 0.3704 - val_accuracy: 0.9193 - val_loss: 0.2588\n",
      "Epoch 2/10\n",
      "\u001b[1m1577/1577\u001b[0m \u001b[32m━━━━━━━━━━━━━━━━━━━━\u001b[0m\u001b[37m\u001b[0m \u001b[1m352s\u001b[0m 223ms/step - accuracy: 0.9196 - loss: 0.2566 - val_accuracy: 0.9201 - val_loss: 0.2511\n",
      "Epoch 3/10\n",
      "\u001b[1m1577/1577\u001b[0m \u001b[32m━━━━━━━━━━━━━━━━━━━━\u001b[0m\u001b[37m\u001b[0m \u001b[1m351s\u001b[0m 223ms/step - accuracy: 0.9212 - loss: 0.2512 - val_accuracy: 0.9172 - val_loss: 0.2482\n",
      "Epoch 4/10\n",
      "\u001b[1m1577/1577\u001b[0m \u001b[32m━━━━━━━━━━━━━━━━━━━━\u001b[0m\u001b[37m\u001b[0m \u001b[1m370s\u001b[0m 235ms/step - accuracy: 0.9181 - loss: 0.2480 - val_accuracy: 0.9159 - val_loss: 0.2662\n",
      "Epoch 5/10\n",
      "\u001b[1m1577/1577\u001b[0m \u001b[32m━━━━━━━━━━━━━━━━━━━━\u001b[0m\u001b[37m\u001b[0m \u001b[1m370s\u001b[0m 235ms/step - accuracy: 0.9209 - loss: 0.2424 - val_accuracy: 0.9213 - val_loss: 0.2430\n",
      "Epoch 6/10\n",
      "\u001b[1m1577/1577\u001b[0m \u001b[32m━━━━━━━━━━━━━━━━━━━━\u001b[0m\u001b[37m\u001b[0m \u001b[1m358s\u001b[0m 227ms/step - accuracy: 0.9211 - loss: 0.2405 - val_accuracy: 0.9206 - val_loss: 0.2369\n",
      "Epoch 7/10\n",
      "\u001b[1m1577/1577\u001b[0m \u001b[32m━━━━━━━━━━━━━━━━━━━━\u001b[0m\u001b[37m\u001b[0m \u001b[1m362s\u001b[0m 230ms/step - accuracy: 0.9197 - loss: 0.2401 - val_accuracy: 0.9211 - val_loss: 0.2392\n",
      "Epoch 8/10\n",
      "\u001b[1m1577/1577\u001b[0m \u001b[32m━━━━━━━━━━━━━━━━━━━━\u001b[0m\u001b[37m\u001b[0m \u001b[1m359s\u001b[0m 227ms/step - accuracy: 0.9203 - loss: 0.2373 - val_accuracy: 0.9207 - val_loss: 0.2319\n",
      "Epoch 9/10\n",
      "\u001b[1m1577/1577\u001b[0m \u001b[32m━━━━━━━━━━━━━━━━━━━━\u001b[0m\u001b[37m\u001b[0m \u001b[1m359s\u001b[0m 227ms/step - accuracy: 0.9190 - loss: 0.2388 - val_accuracy: 0.9202 - val_loss: 0.2337\n",
      "Epoch 10/10\n",
      "\u001b[1m1577/1577\u001b[0m \u001b[32m━━━━━━━━━━━━━━━━━━━━\u001b[0m\u001b[37m\u001b[0m \u001b[1m361s\u001b[0m 229ms/step - accuracy: 0.9187 - loss: 0.2341 - val_accuracy: 0.9206 - val_loss: 0.2337\n",
      "\u001b[1m395/395\u001b[0m \u001b[32m━━━━━━━━━━━━━━━━━━━━\u001b[0m\u001b[37m\u001b[0m \u001b[1m24s\u001b[0m 61ms/step - accuracy: 0.9203 - loss: 0.2327\n"
     ]
    },
    {
     "data": {
      "text/plain": [
       "[0.23366212844848633, 0.9206437468528748]"
      ]
     },
     "execution_count": 10,
     "metadata": {},
     "output_type": "execute_result"
    }
   ],
   "source": [
    " window_size = 200\n",
    "\n",
    "num_samples = (len(all_datas) // window_size) * window_size\n",
    "all_datas = all_datas.iloc[:num_samples]  # Обрезаем лишние строки\n",
    "\n",
    "X = all_datas.drop(columns=['target']).values.reshape(-num_samples, window_size, 3)  # Преобразуем в форму (Batch Size, 800, 3)\n",
    "y = all_datas['target'].values[:num_samples:window_size]  # Каждое значение 'target' соответствует одному окну из 800\n",
    "\n",
    "# Проверим итоговые формы X и y\n",
    "print(\"Форма X:\", X.shape)  # Должно быть (Количество выборок, 800, 3)\n",
    "print(\"Форма y:\", y.shape)  # Должно быть (Количество выборок,)\n",
    "\n",
    "# Разделение на обучающую и валидационную выборки\n",
    "from sklearn.model_selection import train_test_split\n",
    "X_train, X_val, y_train, y_val = train_test_split(X, y, test_size=0.2, random_state=42)\n",
    "\n",
    "# Определение модели\n",
    "model = Sequential([\n",
    "    Input(shape=(200, 3)),  # Входной слой с формой (800, 3)\n",
    "    Bidirectional(LSTM(200, return_sequences=True)),\n",
    "    Dropout(0.4),\n",
    "    Flatten(),\n",
    "    Dense(3, activation='softmax')  # Изменяем на 3, поскольку у нас 3 класса (ds, is, swd)\n",
    "])\n",
    "\n",
    "# Компиляция модели\n",
    "model.compile(optimizer='adam', loss='sparse_categorical_crossentropy', metrics=['accuracy'])\n",
    "\n",
    "# Вывод структуры модели\n",
    "model.summary()\n",
    "\n",
    "# Обучение модели\n",
    "history = model.fit(X_train, y_train, epochs=10, batch_size=32, validation_data=(X_val, y_val))\n",
    "\n",
    "# Оценка модели\n",
    "model.evaluate(X_val, y_val)"
   ]
  },
  {
   "cell_type": "code",
   "execution_count": 14,
   "id": "83828fcc-5b65-48b1-a104-0ed63e739765",
   "metadata": {},
   "outputs": [],
   "source": [
    "def get_dataset(name):\n",
    "    #Загружаем датасет\n",
    "    def read_dataset(file_path):\n",
    "        edf_file = pyedflib.EdfReader(file_path)\n",
    "        n_signals = edf_file.signals_in_file\n",
    "        signal_labels = edf_file.getSignalLabels()\n",
    "        signals = [edf_file.readSignal(i) for i in range(n_signals)]\n",
    "        edf_file.close()\n",
    "        print('Сигналов обнаружено: ', n_signals)\n",
    "        return signal_labels, signals\n",
    "\n",
    "    def read_txt_markers(file_path):\n",
    "        with open(file_path, 'r') as file:\n",
    "            labels = file.read().splitlines()\n",
    "        return labels\n",
    "    \n",
    "    def convert_to_sec(time: str):\n",
    "        s = list(map(int, time.split(':')))\n",
    "        return s[0]*3600 + s[1] * 60 + s[2]\n",
    "\n",
    "    def get_markered_dataset(data_file_path, labels_file_path):\n",
    "        signal_labels, signals = read_dataset(data_file_path)\n",
    "        signals = np.array(signals)\n",
    "        data = pd.DataFrame(signals).T.rename(columns={i: signal_labels[i] for i in range(len(signal_labels))})\n",
    "        \n",
    "        markers = read_txt_markers(labels_file_path)[1:]\n",
    "        markers = [line.split('\\t') for line in markers]\n",
    "        markers = [[line[0], convert_to_sec(line[2])*400, line[1]] for line in markers]\n",
    "        \n",
    "        markers_df = pd.DataFrame(markers, columns=['id', 'time', 'marker'])\n",
    "        markers_df['time'] = markers_df['time'].astype(int)\n",
    "    \n",
    "        data['target'] = None\n",
    "    \n",
    "        for i in range(0, len(markers_df), 2):\n",
    "            start_marker = markers_df.iloc[i]\n",
    "            end_marker = markers_df.iloc[i + 1]\n",
    "            if start_marker['marker'].startswith('ds'):\n",
    "                mask = list(range(start_marker.time, end_marker.time))\n",
    "                data.loc[mask, 'target'] = 'ds'\n",
    "            elif start_marker['marker'].startswith('is'):\n",
    "                mask = list(range(start_marker.time, end_marker.time))\n",
    "                data.loc[mask, 'target'] = 'is'\n",
    "            elif start_marker['marker'].startswith('swd'):\n",
    "                mask = list(range(start_marker.time, end_marker.time))\n",
    "                data.loc[mask, 'target'] = 'swd'\n",
    "        percentage_marked = data[data['target'].notna()].shape[0]/data.shape[0]\n",
    "        print(f'Размечено {round(percentage_marked, 2)} данных')\n",
    "        return data\n",
    "    \n",
    "    def load_marked_dataset(file, folder='ECoG_fully_marked_(4+2 files, 6 h each)', base_path=r\"Downloads/train_dataset_minzdrav_train\"):\n",
    "        dataset_file_path = fr\"{base_path}/{folder}/{file}.edf\"\n",
    "        markers_file_path = fr\"{base_path}/{folder}/{file}.txt\"\n",
    "        dataset = get_markered_dataset(dataset_file_path, markers_file_path)\n",
    "        return dataset\n",
    "\n",
    "    dataset = load_marked_dataset(name)\n",
    "    dataset = dataset[dataset['target'].notna()]\n",
    "    return dataset"
   ]
  },
  {
   "cell_type": "code",
   "execution_count": 15,
   "id": "8f4c9cb8-ebce-432e-9182-75b9a4e2d238",
   "metadata": {},
   "outputs": [
    {
     "name": "stdout",
     "output_type": "stream",
     "text": [
      "Сигналов обнаружено:  3\n",
      "Размечено 0.59 данных\n"
     ]
    },
    {
     "data": {
      "text/html": [
       "<div>\n",
       "<style scoped>\n",
       "    .dataframe tbody tr th:only-of-type {\n",
       "        vertical-align: middle;\n",
       "    }\n",
       "\n",
       "    .dataframe tbody tr th {\n",
       "        vertical-align: top;\n",
       "    }\n",
       "\n",
       "    .dataframe thead th {\n",
       "        text-align: right;\n",
       "    }\n",
       "</style>\n",
       "<table border=\"1\" class=\"dataframe\">\n",
       "  <thead>\n",
       "    <tr style=\"text-align: right;\">\n",
       "      <th></th>\n",
       "      <th>FrL</th>\n",
       "      <th>FrR</th>\n",
       "      <th>OcR</th>\n",
       "      <th>target</th>\n",
       "    </tr>\n",
       "  </thead>\n",
       "  <tbody>\n",
       "    <tr>\n",
       "      <th>26000</th>\n",
       "      <td>0.006125</td>\n",
       "      <td>-0.155688</td>\n",
       "      <td>0.045062</td>\n",
       "      <td>swd</td>\n",
       "    </tr>\n",
       "    <tr>\n",
       "      <th>26001</th>\n",
       "      <td>-0.013750</td>\n",
       "      <td>-0.134125</td>\n",
       "      <td>-0.017438</td>\n",
       "      <td>swd</td>\n",
       "    </tr>\n",
       "    <tr>\n",
       "      <th>26002</th>\n",
       "      <td>-0.055000</td>\n",
       "      <td>-0.136937</td>\n",
       "      <td>-0.057938</td>\n",
       "      <td>swd</td>\n",
       "    </tr>\n",
       "    <tr>\n",
       "      <th>26003</th>\n",
       "      <td>-0.091125</td>\n",
       "      <td>-0.132625</td>\n",
       "      <td>-0.083000</td>\n",
       "      <td>swd</td>\n",
       "    </tr>\n",
       "    <tr>\n",
       "      <th>26004</th>\n",
       "      <td>-0.128062</td>\n",
       "      <td>-0.134188</td>\n",
       "      <td>-0.090250</td>\n",
       "      <td>swd</td>\n",
       "    </tr>\n",
       "    <tr>\n",
       "      <th>...</th>\n",
       "      <td>...</td>\n",
       "      <td>...</td>\n",
       "      <td>...</td>\n",
       "      <td>...</td>\n",
       "    </tr>\n",
       "    <tr>\n",
       "      <th>8639195</th>\n",
       "      <td>-0.059438</td>\n",
       "      <td>-0.052625</td>\n",
       "      <td>-0.074625</td>\n",
       "      <td>swd</td>\n",
       "    </tr>\n",
       "    <tr>\n",
       "      <th>8639196</th>\n",
       "      <td>-0.049563</td>\n",
       "      <td>-0.054312</td>\n",
       "      <td>-0.111813</td>\n",
       "      <td>swd</td>\n",
       "    </tr>\n",
       "    <tr>\n",
       "      <th>8639197</th>\n",
       "      <td>-0.028438</td>\n",
       "      <td>-0.044062</td>\n",
       "      <td>-0.088938</td>\n",
       "      <td>swd</td>\n",
       "    </tr>\n",
       "    <tr>\n",
       "      <th>8639198</th>\n",
       "      <td>-0.049313</td>\n",
       "      <td>-0.049688</td>\n",
       "      <td>-0.061062</td>\n",
       "      <td>swd</td>\n",
       "    </tr>\n",
       "    <tr>\n",
       "      <th>8639199</th>\n",
       "      <td>-0.039188</td>\n",
       "      <td>-0.039938</td>\n",
       "      <td>-0.022500</td>\n",
       "      <td>swd</td>\n",
       "    </tr>\n",
       "  </tbody>\n",
       "</table>\n",
       "<p>5108000 rows × 4 columns</p>\n",
       "</div>"
      ],
      "text/plain": [
       "              FrL       FrR       OcR target\n",
       "26000    0.006125 -0.155688  0.045062    swd\n",
       "26001   -0.013750 -0.134125 -0.017438    swd\n",
       "26002   -0.055000 -0.136937 -0.057938    swd\n",
       "26003   -0.091125 -0.132625 -0.083000    swd\n",
       "26004   -0.128062 -0.134188 -0.090250    swd\n",
       "...           ...       ...       ...    ...\n",
       "8639195 -0.059438 -0.052625 -0.074625    swd\n",
       "8639196 -0.049563 -0.054312 -0.111813    swd\n",
       "8639197 -0.028438 -0.044062 -0.088938    swd\n",
       "8639198 -0.049313 -0.049688 -0.061062    swd\n",
       "8639199 -0.039188 -0.039938 -0.022500    swd\n",
       "\n",
       "[5108000 rows x 4 columns]"
      ]
     },
     "execution_count": 15,
     "metadata": {},
     "output_type": "execute_result"
    }
   ],
   "source": [
    "test = get_dataset('Ati4x3_9m_Xyl01(Pharm!)_6h')\n",
    "test"
   ]
  },
  {
   "cell_type": "code",
   "execution_count": 18,
   "id": "b8b4a227-8dd2-4ac0-be27-4191122eb013",
   "metadata": {},
   "outputs": [],
   "source": [
    "test['target'] = test['target'].replace({'ds': 0, 'is': 1, 'swd': 2})\n",
    "#test1 = test[:800]\n",
    "X_test = test.drop(columns=['target'])#.values.reshape(-1, 2923600, 3)\n",
    "y_test = test['target'].values#[:num_samples:window_size]  # Каждое значение 'target' соответствует одному окну из 800 строк\n",
    "#model.evaluate(X_test, y_test)"
   ]
  },
  {
   "cell_type": "code",
   "execution_count": 19,
   "id": "8aca6969-5fed-4eea-9230-6a0f0618a601",
   "metadata": {},
   "outputs": [
    {
     "name": "stdout",
     "output_type": "stream",
     "text": [
      "\u001b[1m799/799\u001b[0m \u001b[32m━━━━━━━━━━━━━━━━━━━━\u001b[0m\u001b[37m\u001b[0m \u001b[1m42s\u001b[0m 52ms/step - accuracy: 0.9660 - loss: 0.1759\n",
      "Точность на всём тестовом наборе: 92.04%\n",
      "Потери (loss) на всём тестовом наборе: 0.4202\n"
     ]
    }
   ],
   "source": [
    "# Размер окна и количество каналов, как в обучении\n",
    "window_size = 200\n",
    "num_channels = 3\n",
    "\n",
    "# Убедимся, что количество строк в тестовом наборе делится на размер окна\n",
    "num_samples = (len(test) // window_size) * window_size\n",
    "test = test.iloc[:num_samples]  # Обрезаем лишние строки\n",
    "\n",
    "# Преобразуем тестовые данные в форму (количество окон, 800, 3)\n",
    "X_test = test.drop(columns=['target']).values.reshape(-1, window_size, num_channels)\n",
    "y_test = test['target'].values[:num_samples:window_size]  # Берем метки для каждого окна\n",
    "\n",
    "# Оценка модели на всём тестовом наборе\n",
    "test_loss, test_accuracy = model.evaluate(X_test, y_test, batch_size=32)\n",
    "print(f\"Точность на всём тестовом наборе: {test_accuracy * 100:.2f}%\")\n",
    "print(f\"Потери (loss) на всём тестовом наборе: {test_loss:.4f}\")"
   ]
  },
  {
   "cell_type": "code",
   "execution_count": 23,
   "id": "391f154c-7dc8-4351-913b-30a44b1c5811",
   "metadata": {},
   "outputs": [],
   "source": [
    "df = pd.read_csv('valid_file.csv')\n",
    "df = df.drop(['Unnamed: 0'], axis=1)"
   ]
  },
  {
   "cell_type": "code",
   "execution_count": 27,
   "id": "c66d9554-c6ed-4ae7-abf4-fada6204e011",
   "metadata": {},
   "outputs": [
    {
     "name": "stdout",
     "output_type": "stream",
     "text": [
      "\u001b[1m267/267\u001b[0m \u001b[32m━━━━━━━━━━━━━━━━━━━━\u001b[0m\u001b[37m\u001b[0m \u001b[1m11s\u001b[0m 42ms/step - accuracy: 0.9381 - loss: 0.3498\n",
      "Точность на всём тестовом наборе: 90.59%\n",
      "Потери (loss) на всём тестовом наборе: 0.4516\n"
     ]
    }
   ],
   "source": [
    "# Размер окна и количество каналов, как в обучении\n",
    "window_size = 200\n",
    "num_channels = 3\n",
    "\n",
    "# Убедимся, что количество строк в тестовом наборе делится на размер окна\n",
    "num_samples = (len(df) // window_size) * window_size\n",
    "df = df.iloc[:num_samples]  # Обрезаем лишние строки\n",
    "\n",
    "# Преобразуем тестовые данные в форму (количество окон, 800, 3)\n",
    "X_test = df.drop(columns=['target']).values.reshape(-1, window_size, num_channels)\n",
    "y_test = df['target'].values[:num_samples:window_size]  # Берем метки для каждого окна\n",
    "\n",
    "# Оценка модели на всём тестовом наборе\n",
    "test_loss, test_accuracy = model.evaluate(X_test, y_test, batch_size=32)\n",
    "print(f\"Точность на всём тестовом наборе: {test_accuracy * 100:.2f}%\")\n",
    "print(f\"Потери (loss) на всём тестовом наборе: {test_loss:.4f}\")"
   ]
  },
  {
   "cell_type": "code",
   "execution_count": null,
   "id": "52bd9040-015d-407f-8a5c-c5983fc03aaa",
   "metadata": {},
   "outputs": [],
   "source": []
  }
 ],
 "metadata": {
  "kernelspec": {
   "display_name": "Python 3 (ipykernel)",
   "language": "python",
   "name": "python3"
  },
  "language_info": {
   "codemirror_mode": {
    "name": "ipython",
    "version": 3
   },
   "file_extension": ".py",
   "mimetype": "text/x-python",
   "name": "python",
   "nbconvert_exporter": "python",
   "pygments_lexer": "ipython3",
   "version": "3.12.4"
  }
 },
 "nbformat": 4,
 "nbformat_minor": 5
}
