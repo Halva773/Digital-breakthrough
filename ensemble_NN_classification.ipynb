{
 "cells": [
  {
   "cell_type": "code",
   "execution_count": 1,
   "id": "10ea6d0f",
   "metadata": {},
   "outputs": [],
   "source": [
    "%reset -f"
   ]
  },
  {
   "cell_type": "code",
   "execution_count": 1,
   "id": "1f321b92",
   "metadata": {},
   "outputs": [],
   "source": [
    "from sklearn.model_selection import train_test_split\n",
    "from sklearn.metrics import classification_report\n",
    "from sklearn.preprocessing import StandardScaler\n",
    "from sklearn.ensemble import HistGradientBoostingClassifier, StackingClassifier\n",
    "import pandas as pd\n",
    "import numpy as np\n",
    "from tensorflow.keras import layers, models, optimizers\n",
    "import os"
   ]
  },
  {
   "cell_type": "markdown",
   "id": "443365c0",
   "metadata": {},
   "source": [
    "## Загружаем данные"
   ]
  },
  {
   "cell_type": "raw",
   "id": "128632c0",
   "metadata": {},
   "source": [
    "import kagglehub\n",
    "import shutil\n",
    "import os\n",
    "\n",
    "def move_folder(source, destination):\n",
    "    try:\n",
    "        # Проверяем, существует ли исходная папка\n",
    "        if not os.path.exists(source):\n",
    "            print(f\"Исходная папка '{source}' не найдена.\")\n",
    "            return \n",
    "        shutil.move(source, destination)\n",
    "        print(f\"Папка '{source}' успешно перемещена в '{destination}'.\")\n",
    "    except Exception as e:\n",
    "        print(f\"Произошла ошибка: {e}\")\n",
    "\n",
    "path = kagglehub.dataset_download(\"oussamabenhassine/epilepsy-detection-using-eeg-signals\")\n",
    "destination_folder = 'data'\n",
    "move_folder(path, destination_folder)"
   ]
  },
  {
   "cell_type": "code",
   "execution_count": 4,
   "id": "cafab635",
   "metadata": {},
   "outputs": [
    {
     "name": "stdout",
     "output_type": "stream",
     "text": [
      "(70000, 4)\n"
     ]
    },
    {
     "data": {
      "text/html": [
       "<div>\n",
       "<style scoped>\n",
       "    .dataframe tbody tr th:only-of-type {\n",
       "        vertical-align: middle;\n",
       "    }\n",
       "\n",
       "    .dataframe tbody tr th {\n",
       "        vertical-align: top;\n",
       "    }\n",
       "\n",
       "    .dataframe thead th {\n",
       "        text-align: right;\n",
       "    }\n",
       "</style>\n",
       "<table border=\"1\" class=\"dataframe\">\n",
       "  <thead>\n",
       "    <tr style=\"text-align: right;\">\n",
       "      <th></th>\n",
       "      <th>FrL</th>\n",
       "      <th>FrR</th>\n",
       "      <th>OcR</th>\n",
       "      <th>target</th>\n",
       "    </tr>\n",
       "  </thead>\n",
       "  <tbody>\n",
       "    <tr>\n",
       "      <th>0</th>\n",
       "      <td>0.076875</td>\n",
       "      <td>0.151062</td>\n",
       "      <td>0.049438</td>\n",
       "      <td>0</td>\n",
       "    </tr>\n",
       "    <tr>\n",
       "      <th>1</th>\n",
       "      <td>0.050438</td>\n",
       "      <td>0.133375</td>\n",
       "      <td>0.028438</td>\n",
       "      <td>0</td>\n",
       "    </tr>\n",
       "    <tr>\n",
       "      <th>2</th>\n",
       "      <td>0.031438</td>\n",
       "      <td>0.122813</td>\n",
       "      <td>0.017063</td>\n",
       "      <td>0</td>\n",
       "    </tr>\n",
       "    <tr>\n",
       "      <th>3</th>\n",
       "      <td>0.031750</td>\n",
       "      <td>0.109500</td>\n",
       "      <td>0.007313</td>\n",
       "      <td>0</td>\n",
       "    </tr>\n",
       "    <tr>\n",
       "      <th>4</th>\n",
       "      <td>0.029750</td>\n",
       "      <td>0.106625</td>\n",
       "      <td>-0.036812</td>\n",
       "      <td>0</td>\n",
       "    </tr>\n",
       "  </tbody>\n",
       "</table>\n",
       "</div>"
      ],
      "text/plain": [
       "        FrL       FrR       OcR  target\n",
       "0  0.076875  0.151062  0.049438       0\n",
       "1  0.050438  0.133375  0.028438       0\n",
       "2  0.031438  0.122813  0.017063       0\n",
       "3  0.031750  0.109500  0.007313       0\n",
       "4  0.029750  0.106625 -0.036812       0"
      ]
     },
     "execution_count": 4,
     "metadata": {},
     "output_type": "execute_result"
    }
   ],
   "source": [
    "folder_path = r\"selected_data.csv\" # Путь к папке с CSV файлами\n",
    "\n",
    "dataset = pd.read_csv(folder_path, index_col=0)\n",
    "print(dataset.shape)\n",
    "dataset.head()"
   ]
  },
  {
   "cell_type": "code",
   "execution_count": 6,
   "id": "35054031",
   "metadata": {},
   "outputs": [
    {
     "data": {
      "text/plain": [
       "((59500, 3), (10500, 3), (59500,), (10500,))"
      ]
     },
     "execution_count": 6,
     "metadata": {},
     "output_type": "execute_result"
    }
   ],
   "source": [
    "splitline = int(dataset.shape[0]*0.85)\n",
    "\n",
    "X = dataset.drop(columns=['target'])\n",
    "y = dataset.target\n",
    "\n",
    "X_train, X_test = X[:splitline], X[splitline:]\n",
    "y_train, y_test = y[:splitline], y[splitline:]\n",
    "\n",
    "X_train.shape, X_test.shape, y_train.shape, y_test.shape"
   ]
  },
  {
   "cell_type": "code",
   "execution_count": 8,
   "id": "e15ad117",
   "metadata": {},
   "outputs": [],
   "source": [
    "scaler = StandardScaler()\n",
    "X_train_scaled = scaler.fit_transform(X_train)\n",
    "X_test_scaled = scaler.transform(X_test)"
   ]
  },
  {
   "cell_type": "markdown",
   "id": "e771f8ff",
   "metadata": {},
   "source": [
    "## Models"
   ]
  },
  {
   "cell_type": "code",
   "execution_count": 11,
   "id": "2ff46c56",
   "metadata": {},
   "outputs": [],
   "source": [
    "import tensorflow as tf\n",
    "from tensorflow.keras.models import Sequential\n",
    "from tensorflow.keras.layers import LSTM, Dense, Bidirectional, SimpleRNN, Dropout, Input\n",
    "from sklearn.metrics import accuracy_score"
   ]
  },
  {
   "cell_type": "code",
   "execution_count": 13,
   "id": "6b059d19",
   "metadata": {},
   "outputs": [],
   "source": [
    "def create_sequences(X, y, seq_length):\n",
    "    X_seq, y_seq = [], []\n",
    "    \n",
    "    # Сбрасываем индексы в y, чтобы они совпадали с индексами X\n",
    "    y = y.reset_index(drop=True)\n",
    "    for i in range(len(X) - seq_length + 1):\n",
    "        X_seq.append(X[i:i + seq_length])\n",
    "        y_seq.append(y[i + seq_length - 1])\n",
    "        \n",
    "    return np.array(X_seq), np.array(y_seq)"
   ]
  },
  {
   "cell_type": "code",
   "execution_count": 15,
   "id": "eccd12d6",
   "metadata": {},
   "outputs": [],
   "source": [
    "# Параметры\n",
    "seq_length = 7\n",
    "num_features = X_train.shape[1]\n",
    "\n",
    "# Преобразуем тренировочные и тестовые данные\n",
    "X_train_seq, y_train_seq = create_sequences(X_train, y_train, seq_length)\n",
    "X_test_seq, y_test_seq = create_sequences(X_test, y_test, seq_length)"
   ]
  },
  {
   "cell_type": "code",
   "execution_count": 17,
   "id": "6bd32afd",
   "metadata": {},
   "outputs": [],
   "source": [
    "model = Sequential([\n",
    "    Input(shape=(seq_length, num_features)),\n",
    "    Bidirectional(layers.LSTM(512, return_sequences=False)),\n",
    "    Dense(256, activation='relu'),\n",
    "    Dense(3, activation='softmax')\n",
    "])"
   ]
  },
  {
   "cell_type": "code",
   "execution_count": 21,
   "id": "e44c713f",
   "metadata": {
    "scrolled": true
   },
   "outputs": [
    {
     "name": "stdout",
     "output_type": "stream",
     "text": [
      "Epoch 1/40\n",
      "\u001b[1m1860/1860\u001b[0m \u001b[32m━━━━━━━━━━━━━━━━━━━━\u001b[0m\u001b[37m\u001b[0m \u001b[1m64s\u001b[0m 33ms/step - accuracy: 0.5152 - loss: 0.9824 - val_accuracy: 0.4875 - val_loss: 0.9138\n",
      "Epoch 2/40\n",
      "\u001b[1m1860/1860\u001b[0m \u001b[32m━━━━━━━━━━━━━━━━━━━━\u001b[0m\u001b[37m\u001b[0m \u001b[1m61s\u001b[0m 33ms/step - accuracy: 0.5647 - loss: 0.9090 - val_accuracy: 0.5051 - val_loss: 0.9019\n",
      "Epoch 3/40\n",
      "\u001b[1m1860/1860\u001b[0m \u001b[32m━━━━━━━━━━━━━━━━━━━━\u001b[0m\u001b[37m\u001b[0m \u001b[1m61s\u001b[0m 33ms/step - accuracy: 0.5768 - loss: 0.8863 - val_accuracy: 0.5237 - val_loss: 0.8863\n",
      "Epoch 4/40\n",
      "\u001b[1m1860/1860\u001b[0m \u001b[32m━━━━━━━━━━━━━━━━━━━━\u001b[0m\u001b[37m\u001b[0m \u001b[1m62s\u001b[0m 33ms/step - accuracy: 0.5941 - loss: 0.8627 - val_accuracy: 0.4922 - val_loss: 0.9292\n",
      "Epoch 5/40\n",
      "\u001b[1m1860/1860\u001b[0m \u001b[32m━━━━━━━━━━━━━━━━━━━━\u001b[0m\u001b[37m\u001b[0m \u001b[1m61s\u001b[0m 33ms/step - accuracy: 0.6006 - loss: 0.8468 - val_accuracy: 0.5842 - val_loss: 0.8525\n",
      "Epoch 6/40\n",
      "\u001b[1m1860/1860\u001b[0m \u001b[32m━━━━━━━━━━━━━━━━━━━━\u001b[0m\u001b[37m\u001b[0m \u001b[1m61s\u001b[0m 33ms/step - accuracy: 0.6083 - loss: 0.8295 - val_accuracy: 0.5681 - val_loss: 0.8822\n",
      "Epoch 7/40\n",
      "\u001b[1m1860/1860\u001b[0m \u001b[32m━━━━━━━━━━━━━━━━━━━━\u001b[0m\u001b[37m\u001b[0m \u001b[1m61s\u001b[0m 33ms/step - accuracy: 0.6175 - loss: 0.8155 - val_accuracy: 0.5479 - val_loss: 0.8960\n",
      "Epoch 8/40\n",
      "\u001b[1m1860/1860\u001b[0m \u001b[32m━━━━━━━━━━━━━━━━━━━━\u001b[0m\u001b[37m\u001b[0m \u001b[1m61s\u001b[0m 33ms/step - accuracy: 0.6190 - loss: 0.8115 - val_accuracy: 0.5273 - val_loss: 0.9182\n",
      "Epoch 9/40\n",
      "\u001b[1m1860/1860\u001b[0m \u001b[32m━━━━━━━━━━━━━━━━━━━━\u001b[0m\u001b[37m\u001b[0m \u001b[1m61s\u001b[0m 33ms/step - accuracy: 0.6248 - loss: 0.8003 - val_accuracy: 0.5763 - val_loss: 0.8744\n",
      "Epoch 10/40\n",
      "\u001b[1m1860/1860\u001b[0m \u001b[32m━━━━━━━━━━━━━━━━━━━━\u001b[0m\u001b[37m\u001b[0m \u001b[1m61s\u001b[0m 33ms/step - accuracy: 0.6338 - loss: 0.7839 - val_accuracy: 0.5551 - val_loss: 0.8892\n",
      "Epoch 11/40\n",
      "\u001b[1m1860/1860\u001b[0m \u001b[32m━━━━━━━━━━━━━━━━━━━━\u001b[0m\u001b[37m\u001b[0m \u001b[1m61s\u001b[0m 33ms/step - accuracy: 0.6380 - loss: 0.7786 - val_accuracy: 0.5678 - val_loss: 0.8528\n",
      "Epoch 12/40\n",
      "\u001b[1m1860/1860\u001b[0m \u001b[32m━━━━━━━━━━━━━━━━━━━━\u001b[0m\u001b[37m\u001b[0m \u001b[1m61s\u001b[0m 33ms/step - accuracy: 0.6414 - loss: 0.7705 - val_accuracy: 0.5351 - val_loss: 0.9393\n",
      "Epoch 13/40\n",
      "\u001b[1m1860/1860\u001b[0m \u001b[32m━━━━━━━━━━━━━━━━━━━━\u001b[0m\u001b[37m\u001b[0m \u001b[1m62s\u001b[0m 33ms/step - accuracy: 0.6473 - loss: 0.7605 - val_accuracy: 0.5775 - val_loss: 0.8973\n",
      "Epoch 14/40\n",
      "\u001b[1m1860/1860\u001b[0m \u001b[32m━━━━━━━━━━━━━━━━━━━━\u001b[0m\u001b[37m\u001b[0m \u001b[1m62s\u001b[0m 33ms/step - accuracy: 0.6533 - loss: 0.7498 - val_accuracy: 0.5333 - val_loss: 0.9373\n",
      "Epoch 15/40\n",
      "\u001b[1m1860/1860\u001b[0m \u001b[32m━━━━━━━━━━━━━━━━━━━━\u001b[0m\u001b[37m\u001b[0m \u001b[1m61s\u001b[0m 33ms/step - accuracy: 0.6530 - loss: 0.7436 - val_accuracy: 0.5417 - val_loss: 0.9233\n",
      "Epoch 16/40\n",
      "\u001b[1m1860/1860\u001b[0m \u001b[32m━━━━━━━━━━━━━━━━━━━━\u001b[0m\u001b[37m\u001b[0m \u001b[1m62s\u001b[0m 33ms/step - accuracy: 0.6598 - loss: 0.7313 - val_accuracy: 0.5231 - val_loss: 0.9564\n",
      "Epoch 17/40\n",
      "\u001b[1m1860/1860\u001b[0m \u001b[32m━━━━━━━━━━━━━━━━━━━━\u001b[0m\u001b[37m\u001b[0m \u001b[1m62s\u001b[0m 33ms/step - accuracy: 0.6738 - loss: 0.7134 - val_accuracy: 0.5382 - val_loss: 0.9379\n",
      "Epoch 18/40\n",
      "\u001b[1m1860/1860\u001b[0m \u001b[32m━━━━━━━━━━━━━━━━━━━━\u001b[0m\u001b[37m\u001b[0m \u001b[1m62s\u001b[0m 33ms/step - accuracy: 0.6741 - loss: 0.7050 - val_accuracy: 0.5462 - val_loss: 0.9433\n",
      "Epoch 19/40\n",
      "\u001b[1m1860/1860\u001b[0m \u001b[32m━━━━━━━━━━━━━━━━━━━━\u001b[0m\u001b[37m\u001b[0m \u001b[1m62s\u001b[0m 33ms/step - accuracy: 0.6810 - loss: 0.6909 - val_accuracy: 0.5014 - val_loss: 0.9998\n",
      "Epoch 20/40\n",
      "\u001b[1m1860/1860\u001b[0m \u001b[32m━━━━━━━━━━━━━━━━━━━━\u001b[0m\u001b[37m\u001b[0m \u001b[1m62s\u001b[0m 33ms/step - accuracy: 0.6902 - loss: 0.6764 - val_accuracy: 0.5353 - val_loss: 0.9493\n",
      "Epoch 21/40\n",
      "\u001b[1m1860/1860\u001b[0m \u001b[32m━━━━━━━━━━━━━━━━━━━━\u001b[0m\u001b[37m\u001b[0m \u001b[1m62s\u001b[0m 33ms/step - accuracy: 0.7010 - loss: 0.6596 - val_accuracy: 0.5395 - val_loss: 0.9356\n",
      "Epoch 22/40\n",
      "\u001b[1m1860/1860\u001b[0m \u001b[32m━━━━━━━━━━━━━━━━━━━━\u001b[0m\u001b[37m\u001b[0m \u001b[1m62s\u001b[0m 33ms/step - accuracy: 0.7059 - loss: 0.6437 - val_accuracy: 0.5382 - val_loss: 0.9722\n",
      "Epoch 23/40\n",
      "\u001b[1m1860/1860\u001b[0m \u001b[32m━━━━━━━━━━━━━━━━━━━━\u001b[0m\u001b[37m\u001b[0m \u001b[1m62s\u001b[0m 34ms/step - accuracy: 0.7172 - loss: 0.6306 - val_accuracy: 0.5269 - val_loss: 0.9734\n",
      "Epoch 24/40\n",
      "\u001b[1m1860/1860\u001b[0m \u001b[32m━━━━━━━━━━━━━━━━━━━━\u001b[0m\u001b[37m\u001b[0m \u001b[1m62s\u001b[0m 33ms/step - accuracy: 0.7270 - loss: 0.6092 - val_accuracy: 0.4722 - val_loss: 1.0901\n",
      "Epoch 25/40\n",
      "\u001b[1m1860/1860\u001b[0m \u001b[32m━━━━━━━━━━━━━━━━━━━━\u001b[0m\u001b[37m\u001b[0m \u001b[1m62s\u001b[0m 33ms/step - accuracy: 0.7317 - loss: 0.5977 - val_accuracy: 0.5192 - val_loss: 1.0189\n",
      "Epoch 26/40\n",
      "\u001b[1m1860/1860\u001b[0m \u001b[32m━━━━━━━━━━━━━━━━━━━━\u001b[0m\u001b[37m\u001b[0m \u001b[1m61s\u001b[0m 33ms/step - accuracy: 0.7437 - loss: 0.5729 - val_accuracy: 0.5395 - val_loss: 0.9894\n",
      "Epoch 27/40\n",
      "\u001b[1m1860/1860\u001b[0m \u001b[32m━━━━━━━━━━━━━━━━━━━━\u001b[0m\u001b[37m\u001b[0m \u001b[1m62s\u001b[0m 33ms/step - accuracy: 0.7561 - loss: 0.5496 - val_accuracy: 0.4747 - val_loss: 1.1113\n",
      "Epoch 28/40\n",
      "\u001b[1m1860/1860\u001b[0m \u001b[32m━━━━━━━━━━━━━━━━━━━━\u001b[0m\u001b[37m\u001b[0m \u001b[1m62s\u001b[0m 33ms/step - accuracy: 0.7693 - loss: 0.5252 - val_accuracy: 0.5305 - val_loss: 1.0330\n",
      "Epoch 29/40\n",
      "\u001b[1m1860/1860\u001b[0m \u001b[32m━━━━━━━━━━━━━━━━━━━━\u001b[0m\u001b[37m\u001b[0m \u001b[1m62s\u001b[0m 33ms/step - accuracy: 0.7814 - loss: 0.4987 - val_accuracy: 0.5063 - val_loss: 1.1236\n",
      "Epoch 30/40\n",
      "\u001b[1m1860/1860\u001b[0m \u001b[32m━━━━━━━━━━━━━━━━━━━━\u001b[0m\u001b[37m\u001b[0m \u001b[1m62s\u001b[0m 33ms/step - accuracy: 0.7925 - loss: 0.4767 - val_accuracy: 0.4981 - val_loss: 1.1216\n",
      "Epoch 31/40\n",
      "\u001b[1m1860/1860\u001b[0m \u001b[32m━━━━━━━━━━━━━━━━━━━━\u001b[0m\u001b[37m\u001b[0m \u001b[1m62s\u001b[0m 33ms/step - accuracy: 0.8051 - loss: 0.4529 - val_accuracy: 0.4950 - val_loss: 1.1659\n",
      "Epoch 32/40\n",
      "\u001b[1m1860/1860\u001b[0m \u001b[32m━━━━━━━━━━━━━━━━━━━━\u001b[0m\u001b[37m\u001b[0m \u001b[1m62s\u001b[0m 34ms/step - accuracy: 0.8211 - loss: 0.4201 - val_accuracy: 0.4820 - val_loss: 1.2486\n",
      "Epoch 33/40\n",
      "\u001b[1m1860/1860\u001b[0m \u001b[32m━━━━━━━━━━━━━━━━━━━━\u001b[0m\u001b[37m\u001b[0m \u001b[1m62s\u001b[0m 33ms/step - accuracy: 0.8322 - loss: 0.3955 - val_accuracy: 0.4565 - val_loss: 1.2866\n",
      "Epoch 34/40\n",
      "\u001b[1m1860/1860\u001b[0m \u001b[32m━━━━━━━━━━━━━━━━━━━━\u001b[0m\u001b[37m\u001b[0m \u001b[1m62s\u001b[0m 33ms/step - accuracy: 0.8448 - loss: 0.3681 - val_accuracy: 0.5086 - val_loss: 1.2842\n",
      "Epoch 35/40\n",
      "\u001b[1m1860/1860\u001b[0m \u001b[32m━━━━━━━━━━━━━━━━━━━━\u001b[0m\u001b[37m\u001b[0m \u001b[1m62s\u001b[0m 33ms/step - accuracy: 0.8604 - loss: 0.3420 - val_accuracy: 0.4520 - val_loss: 1.4231\n",
      "Epoch 36/40\n",
      "\u001b[1m1860/1860\u001b[0m \u001b[32m━━━━━━━━━━━━━━━━━━━━\u001b[0m\u001b[37m\u001b[0m \u001b[1m61s\u001b[0m 33ms/step - accuracy: 0.8700 - loss: 0.3130 - val_accuracy: 0.4993 - val_loss: 1.4665\n",
      "Epoch 37/40\n",
      "\u001b[1m1860/1860\u001b[0m \u001b[32m━━━━━━━━━━━━━━━━━━━━\u001b[0m\u001b[37m\u001b[0m \u001b[1m62s\u001b[0m 33ms/step - accuracy: 0.8818 - loss: 0.2876 - val_accuracy: 0.4689 - val_loss: 1.5447\n",
      "Epoch 38/40\n",
      "\u001b[1m1860/1860\u001b[0m \u001b[32m━━━━━━━━━━━━━━━━━━━━\u001b[0m\u001b[37m\u001b[0m \u001b[1m62s\u001b[0m 33ms/step - accuracy: 0.8946 - loss: 0.2635 - val_accuracy: 0.4666 - val_loss: 1.6228\n",
      "Epoch 39/40\n",
      "\u001b[1m1860/1860\u001b[0m \u001b[32m━━━━━━━━━━━━━━━━━━━━\u001b[0m\u001b[37m\u001b[0m \u001b[1m63s\u001b[0m 34ms/step - accuracy: 0.9053 - loss: 0.2385 - val_accuracy: 0.4802 - val_loss: 1.6334\n",
      "Epoch 40/40\n",
      "\u001b[1m1860/1860\u001b[0m \u001b[32m━━━━━━━━━━━━━━━━━━━━\u001b[0m\u001b[37m\u001b[0m \u001b[1m61s\u001b[0m 33ms/step - accuracy: 0.9143 - loss: 0.2138 - val_accuracy: 0.4668 - val_loss: 1.8773\n"
     ]
    }
   ],
   "source": [
    "model.compile(optimizer='adam', loss='sparse_categorical_crossentropy', metrics=['accuracy'])\n",
    "\n",
    "history = model.fit(\n",
    "    X_train_seq, y_train_seq,\n",
    "    validation_data=(X_test_seq, y_test_seq),\n",
    "    epochs=40,\n",
    "    batch_size=32)"
   ]
  },
  {
   "cell_type": "code",
   "execution_count": 22,
   "id": "294c27d6",
   "metadata": {},
   "outputs": [
    {
     "name": "stderr",
     "output_type": "stream",
     "text": [
      "WARNING:absl:You are saving your model as an HDF5 file via `model.save()` or `keras.saving.save_model(model)`. This file format is considered legacy. We recommend using instead the native Keras format, e.g. `model.save('my_model.keras')` or `keras.saving.save_model(model, 'my_model.keras')`. \n"
     ]
    }
   ],
   "source": [
    "model.save('BiLSTM_512-256_model.h5')"
   ]
  },
  {
   "cell_type": "code",
   "execution_count": null,
   "id": "556529c8",
   "metadata": {},
   "outputs": [],
   "source": []
  }
 ],
 "metadata": {
  "kernelspec": {
   "display_name": "Python 3 (ipykernel)",
   "language": "python",
   "name": "python3"
  },
  "language_info": {
   "codemirror_mode": {
    "name": "ipython",
    "version": 3
   },
   "file_extension": ".py",
   "mimetype": "text/x-python",
   "name": "python",
   "nbconvert_exporter": "python",
   "pygments_lexer": "ipython3",
   "version": "3.12.4"
  }
 },
 "nbformat": 4,
 "nbformat_minor": 5
}
