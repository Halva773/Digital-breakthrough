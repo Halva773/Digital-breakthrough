{
 "cells": [
  {
   "cell_type": "markdown",
   "id": "7cd0d117",
   "metadata": {},
   "source": [
    "## Считывание файла"
   ]
  },
  {
   "cell_type": "code",
   "execution_count": 4,
   "id": "153b00f1",
   "metadata": {},
   "outputs": [],
   "source": [
    "import pyedflib\n",
    "import numpy as np\n",
    "import pandas as pd"
   ]
  },
  {
   "cell_type": "code",
   "execution_count": 2,
   "id": "b9df76d7",
   "metadata": {},
   "outputs": [],
   "source": [
    "def read_dataset(file_path):\n",
    "    edf_file = pyedflib.EdfReader(file_path)\n",
    "    n_signals = edf_file.signals_in_file\n",
    "    signal_labels = edf_file.getSignalLabels()\n",
    "    signals = [edf_file.readSignal(i) for i in range(n_signals)]\n",
    "    edf_file.close()\n",
    "    \n",
    "    print('Сигналов обнаружено: ', n_signals)\n",
    "    return signal_labels, signals"
   ]
  },
  {
   "cell_type": "code",
   "execution_count": 6,
   "id": "59daa54b",
   "metadata": {},
   "outputs": [
    {
     "name": "stdout",
     "output_type": "stream",
     "text": [
      "Сигналов обнаружено:  3\n"
     ]
    },
    {
     "data": {
      "text/html": [
       "<div>\n",
       "<style scoped>\n",
       "    .dataframe tbody tr th:only-of-type {\n",
       "        vertical-align: middle;\n",
       "    }\n",
       "\n",
       "    .dataframe tbody tr th {\n",
       "        vertical-align: top;\n",
       "    }\n",
       "\n",
       "    .dataframe thead th {\n",
       "        text-align: right;\n",
       "    }\n",
       "</style>\n",
       "<table border=\"1\" class=\"dataframe\">\n",
       "  <thead>\n",
       "    <tr style=\"text-align: right;\">\n",
       "      <th></th>\n",
       "      <th>FrL</th>\n",
       "      <th>FrR</th>\n",
       "      <th>OcR</th>\n",
       "    </tr>\n",
       "  </thead>\n",
       "  <tbody>\n",
       "    <tr>\n",
       "      <th>0</th>\n",
       "      <td>0.050875</td>\n",
       "      <td>0.046562</td>\n",
       "      <td>0.121125</td>\n",
       "    </tr>\n",
       "    <tr>\n",
       "      <th>1</th>\n",
       "      <td>0.041813</td>\n",
       "      <td>0.036250</td>\n",
       "      <td>0.110250</td>\n",
       "    </tr>\n",
       "    <tr>\n",
       "      <th>2</th>\n",
       "      <td>0.051813</td>\n",
       "      <td>0.039938</td>\n",
       "      <td>0.122875</td>\n",
       "    </tr>\n",
       "    <tr>\n",
       "      <th>3</th>\n",
       "      <td>0.074750</td>\n",
       "      <td>0.067937</td>\n",
       "      <td>0.150938</td>\n",
       "    </tr>\n",
       "    <tr>\n",
       "      <th>4</th>\n",
       "      <td>0.086875</td>\n",
       "      <td>0.086063</td>\n",
       "      <td>0.177687</td>\n",
       "    </tr>\n",
       "  </tbody>\n",
       "</table>\n",
       "</div>"
      ],
      "text/plain": [
       "        FrL       FrR       OcR\n",
       "0  0.050875  0.046562  0.121125\n",
       "1  0.041813  0.036250  0.110250\n",
       "2  0.051813  0.039938  0.122875\n",
       "3  0.074750  0.067937  0.150938\n",
       "4  0.086875  0.086063  0.177687"
      ]
     },
     "execution_count": 6,
     "metadata": {},
     "output_type": "execute_result"
    }
   ],
   "source": [
    "data_file_path = r\"D:\\Programming\\international_hack_data\\data\\ECoG_unmarked [30 files, 6 h each]\\Ati4x1_15m_BL_6h.edf\"\n",
    "\n",
    "signal_labels, signals = read_dataset(data_file_path)\n",
    "signals = np.array(signals)\n",
    "data = pd.DataFrame(signals).T.rename(columns={i: signal_labels[i] for i in range(len(signal_labels))})\n",
    "data.head()"
   ]
  },
  {
   "cell_type": "code",
   "execution_count": 7,
   "id": "d44f7541",
   "metadata": {},
   "outputs": [
    {
     "data": {
      "text/plain": [
       "(8640400, 3)"
      ]
     },
     "execution_count": 7,
     "metadata": {},
     "output_type": "execute_result"
    }
   ],
   "source": [
    "data.shape"
   ]
  },
  {
   "cell_type": "markdown",
   "id": "63b57c07",
   "metadata": {},
   "source": [
    "## Preprocessing"
   ]
  },
  {
   "cell_type": "code",
   "execution_count": 10,
   "id": "010d746e",
   "metadata": {},
   "outputs": [],
   "source": [
    "def prepare_sequences_for_prediction(new_data, seq_length=7):\n",
    "    sequences = []\n",
    "    for i in range(len(new_data) - seq_length + 1):\n",
    "        sequences.append(new_data[i:i + seq_length])\n",
    "    return np.array(sequences)\n",
    "\n",
    "seq_length = 7\n",
    "X_new_seq = prepare_sequences_for_prediction(data[:1000000], seq_length)"
   ]
  },
  {
   "cell_type": "markdown",
   "id": "8dd02582",
   "metadata": {},
   "source": [
    "## Модель"
   ]
  },
  {
   "cell_type": "code",
   "execution_count": 11,
   "id": "7d6e8be6",
   "metadata": {},
   "outputs": [
    {
     "name": "stdout",
     "output_type": "stream",
     "text": [
      "7813/7813 [==============================] - 31s 4ms/step\n"
     ]
    },
    {
     "data": {
      "text/plain": [
       "(999994, 3)"
      ]
     },
     "execution_count": 11,
     "metadata": {},
     "output_type": "execute_result"
    }
   ],
   "source": [
    "# Загрузка модели\n",
    "from tensorflow.keras.models import load_model\n",
    "model = load_model('first_model.h5')\n",
    "\n",
    "y_new_pred = model.predict(X_new_seq, batch_size=128)\n",
    "most_probable_classes = np.argmax(y_new_pred, axis=1)\n",
    "most_probable_classes.shape"
   ]
  },
  {
   "cell_type": "code",
   "execution_count": 22,
   "id": "459e3349",
   "metadata": {},
   "outputs": [
    {
     "data": {
      "text/plain": [
       "545131"
      ]
     },
     "execution_count": 22,
     "metadata": {},
     "output_type": "execute_result"
    }
   ],
   "source": [
    "most_probable_classes[most_probable_classes == 0].shape[0]"
   ]
  },
  {
   "cell_type": "code",
   "execution_count": 23,
   "id": "1cc47adc",
   "metadata": {},
   "outputs": [
    {
     "data": {
      "text/plain": [
       "350707"
      ]
     },
     "execution_count": 23,
     "metadata": {},
     "output_type": "execute_result"
    }
   ],
   "source": [
    "most_probable_classes[most_probable_classes == 1].shape[0]"
   ]
  },
  {
   "cell_type": "code",
   "execution_count": 24,
   "id": "00fab81f",
   "metadata": {},
   "outputs": [
    {
     "data": {
      "text/plain": [
       "104156"
      ]
     },
     "execution_count": 24,
     "metadata": {},
     "output_type": "execute_result"
    }
   ],
   "source": [
    "most_probable_classes[most_probable_classes == 2].shape[0]"
   ]
  },
  {
   "cell_type": "code",
   "execution_count": null,
   "id": "d98cc78a",
   "metadata": {},
   "outputs": [],
   "source": []
  }
 ],
 "metadata": {
  "kernelspec": {
   "display_name": "Python 3 (ipykernel)",
   "language": "python",
   "name": "python3"
  },
  "language_info": {
   "codemirror_mode": {
    "name": "ipython",
    "version": 3
   },
   "file_extension": ".py",
   "mimetype": "text/x-python",
   "name": "python",
   "nbconvert_exporter": "python",
   "pygments_lexer": "ipython3",
   "version": "3.11.5"
  }
 },
 "nbformat": 4,
 "nbformat_minor": 5
}
