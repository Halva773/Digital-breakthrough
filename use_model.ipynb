{
 "cells": [
  {
   "cell_type": "markdown",
   "id": "7cd0d117",
   "metadata": {},
   "source": [
    "## Считывание файла"
   ]
  },
  {
   "cell_type": "code",
   "execution_count": 61,
   "id": "153b00f1",
   "metadata": {},
   "outputs": [],
   "source": [
    "import pyedflib\n",
    "import numpy as np\n",
    "import pandas as pd"
   ]
  },
  {
   "cell_type": "code",
   "execution_count": 63,
   "id": "b9df76d7",
   "metadata": {},
   "outputs": [],
   "source": [
    "def read_dataset(file_path):\n",
    "    edf_file = pyedflib.EdfReader(file_path)\n",
    "    n_signals = edf_file.signals_in_file\n",
    "    signal_labels = edf_file.getSignalLabels()\n",
    "    signals = [edf_file.readSignal(i) for i in range(n_signals)]\n",
    "    edf_file.close()\n",
    "    \n",
    "    print('Сигналов обнаружено: ', n_signals)\n",
    "    return signal_labels, signals"
   ]
  },
  {
   "cell_type": "raw",
   "id": "1071d0bf-b3bd-4bd7-8128-4ffa20dc5556",
   "metadata": {},
   "source": [
    "data_file_path = r\"\\ECoG_unmarked [30 files, 6 h each]\\Ati4x1_15m_BL_6h.edf\"\n",
    "\n",
    "signal_labels, signals = read_dataset(data_file_path)\n",
    "signals = np.array(signals)\n",
    "data = pd.DataFrame(signals).T.rename(columns={i: signal_labels[i] for i in range(len(signal_labels))})\n",
    "data.head()"
   ]
  },
  {
   "cell_type": "code",
   "execution_count": 183,
   "id": "ca290fe8-2f27-46bf-adfb-5a81bf912783",
   "metadata": {},
   "outputs": [
    {
     "data": {
      "text/html": [
       "<div>\n",
       "<style scoped>\n",
       "    .dataframe tbody tr th:only-of-type {\n",
       "        vertical-align: middle;\n",
       "    }\n",
       "\n",
       "    .dataframe tbody tr th {\n",
       "        vertical-align: top;\n",
       "    }\n",
       "\n",
       "    .dataframe thead th {\n",
       "        text-align: right;\n",
       "    }\n",
       "</style>\n",
       "<table border=\"1\" class=\"dataframe\">\n",
       "  <thead>\n",
       "    <tr style=\"text-align: right;\">\n",
       "      <th></th>\n",
       "      <th>FrL</th>\n",
       "      <th>FrR</th>\n",
       "      <th>OcR</th>\n",
       "    </tr>\n",
       "  </thead>\n",
       "  <tbody>\n",
       "    <tr>\n",
       "      <th>0</th>\n",
       "      <td>-0.121875</td>\n",
       "      <td>-0.163000</td>\n",
       "      <td>-0.078500</td>\n",
       "    </tr>\n",
       "    <tr>\n",
       "      <th>1</th>\n",
       "      <td>-0.140063</td>\n",
       "      <td>-0.188250</td>\n",
       "      <td>-0.059062</td>\n",
       "    </tr>\n",
       "    <tr>\n",
       "      <th>2</th>\n",
       "      <td>-0.079437</td>\n",
       "      <td>-0.178813</td>\n",
       "      <td>-0.004125</td>\n",
       "    </tr>\n",
       "    <tr>\n",
       "      <th>3</th>\n",
       "      <td>-0.030875</td>\n",
       "      <td>-0.097250</td>\n",
       "      <td>0.024625</td>\n",
       "    </tr>\n",
       "    <tr>\n",
       "      <th>4</th>\n",
       "      <td>0.006687</td>\n",
       "      <td>-0.040563</td>\n",
       "      <td>-0.005562</td>\n",
       "    </tr>\n",
       "  </tbody>\n",
       "</table>\n",
       "</div>"
      ],
      "text/plain": [
       "        FrL       FrR       OcR\n",
       "0 -0.121875 -0.163000 -0.078500\n",
       "1 -0.140063 -0.188250 -0.059062\n",
       "2 -0.079437 -0.178813 -0.004125\n",
       "3 -0.030875 -0.097250  0.024625\n",
       "4  0.006687 -0.040563 -0.005562"
      ]
     },
     "execution_count": 183,
     "metadata": {},
     "output_type": "execute_result"
    }
   ],
   "source": [
    "data_marked = pd.read_csv('marked_dataset.csv', index_col=0)\n",
    "data = data_marked.drop(columns=['target'])\n",
    "y_true = data_marked.target[:-6]\n",
    "data.head()"
   ]
  },
  {
   "cell_type": "code",
   "execution_count": 185,
   "id": "33276798-ef37-4cb8-b09e-a07c4057f403",
   "metadata": {},
   "outputs": [
    {
     "data": {
      "text/plain": [
       "0         NaN\n",
       "1         NaN\n",
       "2         NaN\n",
       "3         NaN\n",
       "4         NaN\n",
       "           ..\n",
       "8640389   NaN\n",
       "8640390   NaN\n",
       "8640391   NaN\n",
       "8640392   NaN\n",
       "8640393   NaN\n",
       "Name: target, Length: 8640394, dtype: float64"
      ]
     },
     "execution_count": 185,
     "metadata": {},
     "output_type": "execute_result"
    }
   ],
   "source": [
    "y_true"
   ]
  },
  {
   "cell_type": "code",
   "execution_count": 187,
   "id": "d44f7541",
   "metadata": {},
   "outputs": [
    {
     "data": {
      "text/plain": [
       "(8640400, 3)"
      ]
     },
     "execution_count": 187,
     "metadata": {},
     "output_type": "execute_result"
    }
   ],
   "source": [
    "data.shape"
   ]
  },
  {
   "cell_type": "code",
   "execution_count": 189,
   "id": "0c4c5c24-1f00-4317-90b0-922bc386dcf8",
   "metadata": {},
   "outputs": [
    {
     "data": {
      "text/plain": [
       "0         NaN\n",
       "1         NaN\n",
       "2         NaN\n",
       "3         NaN\n",
       "4         NaN\n",
       "           ..\n",
       "8640389   NaN\n",
       "8640390   NaN\n",
       "8640391   NaN\n",
       "8640392   NaN\n",
       "8640393   NaN\n",
       "Name: target, Length: 8640394, dtype: float64"
      ]
     },
     "execution_count": 189,
     "metadata": {},
     "output_type": "execute_result"
    }
   ],
   "source": [
    "y_true"
   ]
  },
  {
   "cell_type": "markdown",
   "id": "63b57c07",
   "metadata": {},
   "source": [
    "## Preprocessing"
   ]
  },
  {
   "cell_type": "code",
   "execution_count": null,
   "id": "010d746e",
   "metadata": {},
   "outputs": [],
   "source": [
    "def prepare_sequences_for_prediction(new_data, seq_length=7):\n",
    "    sequences = []\n",
    "    for i in range(len(new_data) - seq_length + 1):\n",
    "        sequences.append(new_data[i:i + seq_length])\n",
    "    return np.array(sequences)\n",
    "\n",
    "seq_length = 7\n",
    "X_new_seq = prepare_sequences_for_prediction(data, seq_length)"
   ]
  },
  {
   "cell_type": "code",
   "execution_count": null,
   "id": "ca650a13-26d6-4729-b64d-9283232284dd",
   "metadata": {},
   "outputs": [],
   "source": [
    "X_new_seq.shape"
   ]
  },
  {
   "cell_type": "markdown",
   "id": "8dd02582",
   "metadata": {},
   "source": [
    "## Модель"
   ]
  },
  {
   "cell_type": "code",
   "execution_count": null,
   "id": "7d6e8be6",
   "metadata": {},
   "outputs": [],
   "source": [
    "# Загрузка модели\n",
    "from tensorflow.keras.models import load_model\n",
    "model = load_model('BiLSTM_512-256_model.h5')\n",
    "\n",
    "y_pred_proba = model.predict(X_new_seq, batch_size=128)\n",
    "y_pred = np.argmax(y_pred_proba, axis=1)\n",
    "y_pred.shape"
   ]
  },
  {
   "cell_type": "code",
   "execution_count": null,
   "id": "459e3349",
   "metadata": {},
   "outputs": [],
   "source": [
    "most_probable_classes[most_probable_classes == 0].shape[0]"
   ]
  },
  {
   "cell_type": "code",
   "execution_count": null,
   "id": "1cc47adc",
   "metadata": {},
   "outputs": [],
   "source": [
    "most_probable_classes[most_probable_classes == 1].shape[0]"
   ]
  },
  {
   "cell_type": "code",
   "execution_count": null,
   "id": "00fab81f",
   "metadata": {},
   "outputs": [],
   "source": [
    "most_probable_classes[most_probable_classes == 2].shape[0]"
   ]
  },
  {
   "cell_type": "code",
   "execution_count": null,
   "id": "a1268424-e181-4d69-b344-5d88827e19a3",
   "metadata": {},
   "outputs": [],
   "source": [
    "X_new_seq.shape, y_new_pred.shape"
   ]
  },
  {
   "cell_type": "code",
   "execution_count": null,
   "id": "d98cc78a",
   "metadata": {},
   "outputs": [],
   "source": [
    "from sklearn.metrics import precision_score, accuracy_score, f1_score, recall_score\n",
    "\n",
    "# Преобразуем y_true в numpy-массив, чтобы проще работать с None\n",
    "y_true = np.array(y_true)\n",
    "y_pred = np.array(y_pred)\n",
    "\n",
    "# Исключаем элементы, где y_true равно None (или NaN, если данные изначально преобразуются)\n",
    "mask = y_true != None  # Используем маску для фильтрации\n",
    "filtered_y_true = y_true\n",
    "filtered_y_pred = y_pred\n",
    "\n",
    "precision_per_class = precision_score(filtered_y_true, filtered_y_pred, average=None, labels=[0, 1, 2])\n",
    "recall_per_class = recall_score(filtered_y_true, filtered_y_pred, average=None, labels=[0, 1, 2])\n",
    "f1_per_class = f1_score(filtered_y_true, filtered_y_pred, average=None, labels=[0, 1, 2])\n",
    "accuracy = accuracy_score(filtered_y_true, filtered_y_pred)\n",
    "\n",
    "# Вывод результатов\n",
    "print(\"Метрики по каждому классу:\")\n",
    "for i in range(3):\n",
    "    print(f\"Класс {i}:\")\n",
    "    print(f\"  Precision: {precision_per_class[i]:.2f}\")\n",
    "    print(f\"  Recall: {recall_per_class[i]:.2f}\")\n",
    "    print(f\"  F1-score: {f1_per_class[i]:.2f}\")\n",
    "print(f\"\\nОбщая Accuracy: {accuracy:.2f}\")"
   ]
  },
  {
   "cell_type": "code",
   "execution_count": null,
   "id": "2318629b-d471-45e4-b7f0-d0fd9ddf1f02",
   "metadata": {},
   "outputs": [],
   "source": [
    "y_true"
   ]
  },
  {
   "cell_type": "code",
   "execution_count": null,
   "id": "1e4c88ee-33a8-4c80-938f-14b4f13b5d08",
   "metadata": {},
   "outputs": [],
   "source": [
    "y_new_pred"
   ]
  },
  {
   "cell_type": "code",
   "execution_count": null,
   "id": "a9e0ad50-886c-4785-80ec-25cb13d42154",
   "metadata": {},
   "outputs": [],
   "source": []
  }
 ],
 "metadata": {
  "kernelspec": {
   "display_name": "Python 3 (ipykernel)",
   "language": "python",
   "name": "python3"
  },
  "language_info": {
   "codemirror_mode": {
    "name": "ipython",
    "version": 3
   },
   "file_extension": ".py",
   "mimetype": "text/x-python",
   "name": "python",
   "nbconvert_exporter": "python",
   "pygments_lexer": "ipython3",
   "version": "3.12.4"
  }
 },
 "nbformat": 4,
 "nbformat_minor": 5
}
