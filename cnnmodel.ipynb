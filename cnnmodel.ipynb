{
 "cells": [
  {
   "cell_type": "code",
   "execution_count": 1,
   "id": "21edec44-2b5e-4b8c-a6e6-c4249d84836d",
   "metadata": {},
   "outputs": [],
   "source": [
    "import numpy as np\n",
    "import pandas as pd\n",
    "import pyedflib\n",
    "import tensorflow as tf\n",
    "from tensorflow.keras.models import Sequential\n",
    "from tensorflow.keras.layers import Input, Bidirectional, LSTM, Dropout, Flatten, Dense, Conv1D, MaxPooling1D"
   ]
  },
  {
   "cell_type": "code",
   "execution_count": 2,
   "id": "bb7348fd-a2d5-408f-9539-ae0a907d2b0a",
   "metadata": {},
   "outputs": [],
   "source": [
    "def get_dataset(name):\n",
    "    #Загружаем датасет\n",
    "    def read_dataset(file_path):\n",
    "        edf_file = pyedflib.EdfReader(file_path)\n",
    "        n_signals = edf_file.signals_in_file\n",
    "        signal_labels = edf_file.getSignalLabels()\n",
    "        signals = [edf_file.readSignal(i) for i in range(n_signals)]\n",
    "        edf_file.close()\n",
    "        print('Сигналов обнаружено: ', n_signals)\n",
    "        return signal_labels, signals\n",
    "\n",
    "    def read_txt_markers(file_path):\n",
    "        with open(file_path, 'r') as file:\n",
    "            labels = file.read().splitlines()\n",
    "        return labels\n",
    "    \n",
    "    def convert_to_sec(time: str):\n",
    "        s = list(map(int, time.split(':')))\n",
    "        return s[0]*3600 + s[1] * 60 + s[2]\n",
    "\n",
    "    def get_markered_dataset(data_file_path, labels_file_path):\n",
    "        signal_labels, signals = read_dataset(data_file_path)\n",
    "        signals = np.array(signals)\n",
    "        data = pd.DataFrame(signals).T.rename(columns={i: signal_labels[i] for i in range(len(signal_labels))})\n",
    "        \n",
    "        markers = read_txt_markers(labels_file_path)[1:]\n",
    "        markers = [line.split('\\t') for line in markers]\n",
    "        markers = [[line[0], convert_to_sec(line[1])*400, line[2]] for line in markers]\n",
    "        \n",
    "        markers_df = pd.DataFrame(markers, columns=['id', 'time', 'marker'])\n",
    "        markers_df['time'] = markers_df['time'].astype(int)\n",
    "    \n",
    "        data['target'] = None\n",
    "    \n",
    "        for i in range(0, len(markers_df), 2):\n",
    "            start_marker = markers_df.iloc[i]\n",
    "            end_marker = markers_df.iloc[i + 1]\n",
    "            if start_marker['marker'].startswith('ds'):\n",
    "                mask = list(range(start_marker.time, end_marker.time))\n",
    "                data.loc[mask, 'target'] = 'ds'\n",
    "            elif start_marker['marker'].startswith('is'):\n",
    "                mask = list(range(start_marker.time, end_marker.time))\n",
    "                data.loc[mask, 'target'] = 'is'\n",
    "            elif start_marker['marker'].startswith('swd'):\n",
    "                mask = list(range(start_marker.time, end_marker.time))\n",
    "                data.loc[mask, 'target'] = 'swd'\n",
    "        percentage_marked = data[data['target'].notna()].shape[0]/data.shape[0]\n",
    "        print(f'Размечено {round(percentage_marked, 2)} данных')\n",
    "        return data\n",
    "\n",
    "    def load_marked_dataset(file, folder='ECoG_fully_marked_(4+2 files, 6 h each)', base_path=r\"Downloads/train_dataset_minzdrav_train\"):\n",
    "        dataset_file_path = fr\"{base_path}/{folder}/{file}.edf\"\n",
    "        markers_file_path = fr\"{base_path}/{folder}/{file}.txt\"\n",
    "        dataset = get_markered_dataset(dataset_file_path, markers_file_path)\n",
    "        return dataset\n",
    "\n",
    "    dataset = load_marked_dataset(name)\n",
    "    dataset = dataset[dataset['target'].notna()]\n",
    "    return dataset"
   ]
  },
  {
   "cell_type": "code",
   "execution_count": 3,
   "id": "faf71ed4-d968-46cc-b5ac-2456703a8db9",
   "metadata": {},
   "outputs": [
    {
     "name": "stdout",
     "output_type": "stream",
     "text": [
      "Сигналов обнаружено:  3\n",
      "Размечено 0.42 данных\n",
      "Сигналов обнаружено:  3\n",
      "Размечено 0.25 данных\n",
      "Сигналов обнаружено:  3\n",
      "Размечено 0.22 данных\n",
      "Сигналов обнаружено:  3\n",
      "Размечено 0.23 данных\n",
      "Сигналов обнаружено:  3\n",
      "Размечено 0.34 данных\n"
     ]
    },
    {
     "data": {
      "text/html": [
       "<div>\n",
       "<style scoped>\n",
       "    .dataframe tbody tr th:only-of-type {\n",
       "        vertical-align: middle;\n",
       "    }\n",
       "\n",
       "    .dataframe tbody tr th {\n",
       "        vertical-align: top;\n",
       "    }\n",
       "\n",
       "    .dataframe thead th {\n",
       "        text-align: right;\n",
       "    }\n",
       "</style>\n",
       "<table border=\"1\" class=\"dataframe\">\n",
       "  <thead>\n",
       "    <tr style=\"text-align: right;\">\n",
       "      <th></th>\n",
       "      <th>FrL</th>\n",
       "      <th>FrR</th>\n",
       "      <th>OcR</th>\n",
       "      <th>target</th>\n",
       "    </tr>\n",
       "  </thead>\n",
       "  <tbody>\n",
       "    <tr>\n",
       "      <th>0</th>\n",
       "      <td>-0.167625</td>\n",
       "      <td>-0.125625</td>\n",
       "      <td>-0.089688</td>\n",
       "      <td>ds</td>\n",
       "    </tr>\n",
       "    <tr>\n",
       "      <th>1</th>\n",
       "      <td>-0.175687</td>\n",
       "      <td>-0.100250</td>\n",
       "      <td>-0.038562</td>\n",
       "      <td>ds</td>\n",
       "    </tr>\n",
       "    <tr>\n",
       "      <th>2</th>\n",
       "      <td>-0.176687</td>\n",
       "      <td>-0.123250</td>\n",
       "      <td>-0.039438</td>\n",
       "      <td>ds</td>\n",
       "    </tr>\n",
       "    <tr>\n",
       "      <th>3</th>\n",
       "      <td>-0.174375</td>\n",
       "      <td>-0.127812</td>\n",
       "      <td>-0.014688</td>\n",
       "      <td>ds</td>\n",
       "    </tr>\n",
       "    <tr>\n",
       "      <th>4</th>\n",
       "      <td>-0.138375</td>\n",
       "      <td>-0.085625</td>\n",
       "      <td>0.032250</td>\n",
       "      <td>ds</td>\n",
       "    </tr>\n",
       "    <tr>\n",
       "      <th>...</th>\n",
       "      <td>...</td>\n",
       "      <td>...</td>\n",
       "      <td>...</td>\n",
       "      <td>...</td>\n",
       "    </tr>\n",
       "    <tr>\n",
       "      <th>12613995</th>\n",
       "      <td>-0.090625</td>\n",
       "      <td>0.000937</td>\n",
       "      <td>-0.033250</td>\n",
       "      <td>swd</td>\n",
       "    </tr>\n",
       "    <tr>\n",
       "      <th>12613996</th>\n",
       "      <td>-0.059188</td>\n",
       "      <td>0.032938</td>\n",
       "      <td>0.000438</td>\n",
       "      <td>swd</td>\n",
       "    </tr>\n",
       "    <tr>\n",
       "      <th>12613997</th>\n",
       "      <td>-0.056688</td>\n",
       "      <td>0.031000</td>\n",
       "      <td>-0.014563</td>\n",
       "      <td>swd</td>\n",
       "    </tr>\n",
       "    <tr>\n",
       "      <th>12613998</th>\n",
       "      <td>-0.047563</td>\n",
       "      <td>0.041250</td>\n",
       "      <td>-0.027938</td>\n",
       "      <td>swd</td>\n",
       "    </tr>\n",
       "    <tr>\n",
       "      <th>12613999</th>\n",
       "      <td>-0.018500</td>\n",
       "      <td>0.047000</td>\n",
       "      <td>-0.025750</td>\n",
       "      <td>swd</td>\n",
       "    </tr>\n",
       "  </tbody>\n",
       "</table>\n",
       "<p>12614000 rows × 4 columns</p>\n",
       "</div>"
      ],
      "text/plain": [
       "               FrL       FrR       OcR target\n",
       "0        -0.167625 -0.125625 -0.089688     ds\n",
       "1        -0.175687 -0.100250 -0.038562     ds\n",
       "2        -0.176687 -0.123250 -0.039438     ds\n",
       "3        -0.174375 -0.127812 -0.014688     ds\n",
       "4        -0.138375 -0.085625  0.032250     ds\n",
       "...            ...       ...       ...    ...\n",
       "12613995 -0.090625  0.000937 -0.033250    swd\n",
       "12613996 -0.059188  0.032938  0.000438    swd\n",
       "12613997 -0.056688  0.031000 -0.014563    swd\n",
       "12613998 -0.047563  0.041250 -0.027938    swd\n",
       "12613999 -0.018500  0.047000 -0.025750    swd\n",
       "\n",
       "[12614000 rows x 4 columns]"
      ]
     },
     "execution_count": 3,
     "metadata": {},
     "output_type": "execute_result"
    }
   ],
   "source": [
    "dataset_names = ['Ati4x1_15m_BL_6h', \n",
    "                 'Ati4x1_15m_Dex003(Pharm!)_6h', \n",
    "                 'Ati4x1_15m_H2O_6h', \n",
    "                 'Ati4x3_12m_BL_6h',\n",
    "                 'Ati4x6_14m_BL_6h']\n",
    "#'Ati4x3_9m_Xyl01(Pharm!)_6h', \n",
    "dataset_list = []\n",
    "for dataset_name in dataset_names:\n",
    "    dataset = get_dataset(dataset_name)\n",
    "    dataset = dataset[dataset['target'].notna()]\n",
    "    dataset_list.append(dataset)\n",
    "    \n",
    "all_datas = pd.concat(dataset_list, ignore_index=True)\n",
    "all_datas"
   ]
  },
  {
   "cell_type": "code",
   "execution_count": 4,
   "id": "5e78a959-f6ec-41d8-a270-1929de839b4c",
   "metadata": {},
   "outputs": [
    {
     "name": "stderr",
     "output_type": "stream",
     "text": [
      "C:\\Users\\HUAWEI\\AppData\\Local\\Temp\\ipykernel_21104\\3848684522.py:1: FutureWarning: Downcasting behavior in `replace` is deprecated and will be removed in a future version. To retain the old behavior, explicitly call `result.infer_objects(copy=False)`. To opt-in to the future behavior, set `pd.set_option('future.no_silent_downcasting', True)`\n",
      "  all_datas['target'] = all_datas['target'].replace({'ds': 0, 'is': 1, 'swd': 2})\n"
     ]
    }
   ],
   "source": [
    "all_datas['target'] = all_datas['target'].replace({'ds': 0, 'is': 1, 'swd': 2})"
   ]
  },
  {
   "cell_type": "code",
   "execution_count": 25,
   "id": "0a98081f-88bd-42d4-b21a-00da70415d89",
   "metadata": {},
   "outputs": [
    {
     "name": "stdout",
     "output_type": "stream",
     "text": [
      "Форма X: (63070, 200, 3)\n",
      "Форма y: (63070,)\n"
     ]
    }
   ],
   "source": [
    " window_size = 400\n",
    "\n",
    "num_samples = (len(all_datas) // window_size) * window_size\n",
    "all_datas = all_datas.iloc[:num_samples]  # Обрезаем лишние строки\n",
    "\n",
    "X = all_datas.drop(columns=['target']).values.reshape(-num_samples, window_size, 3)  # Преобразуем в форму (Batch Size, 800, 3)\n",
    "y = all_datas['target'].values[:num_samples:window_size]  # Каждое значение 'target' соответствует одному окну из 800\n",
    "\n",
    "# Проверим итоговые формы X и y\n",
    "print(\"Форма X:\", X.shape)  # Должно быть (Количество выборок, 800, 3)\n",
    "print(\"Форма y:\", y.shape)  # Должно быть (Количество выборок,)\n",
    "\n",
    "# Разделение на обучающую и валидационную выборки\n",
    "from sklearn.model_selection import train_test_split\n",
    "X_train, X_val, y_train, y_val = train_test_split(X, y, test_size=0.2, random_state=42)"
   ]
  },
  {
   "cell_type": "code",
   "execution_count": 19,
   "id": "5f466892-6f4b-4579-aa25-e218e2b2fa51",
   "metadata": {},
   "outputs": [
    {
     "data": {
      "text/html": [
       "<pre style=\"white-space:pre;overflow-x:auto;line-height:normal;font-family:Menlo,'DejaVu Sans Mono',consolas,'Courier New',monospace\"><span style=\"font-weight: bold\">Model: \"sequential_4\"</span>\n",
       "</pre>\n"
      ],
      "text/plain": [
       "\u001b[1mModel: \"sequential_4\"\u001b[0m\n"
      ]
     },
     "metadata": {},
     "output_type": "display_data"
    },
    {
     "data": {
      "text/html": [
       "<pre style=\"white-space:pre;overflow-x:auto;line-height:normal;font-family:Menlo,'DejaVu Sans Mono',consolas,'Courier New',monospace\">┏━━━━━━━━━━━━━━━━━━━━━━━━━━━━━━━━━━━━━━┳━━━━━━━━━━━━━━━━━━━━━━━━━━━━━┳━━━━━━━━━━━━━━━━━┓\n",
       "┃<span style=\"font-weight: bold\"> Layer (type)                         </span>┃<span style=\"font-weight: bold\"> Output Shape                </span>┃<span style=\"font-weight: bold\">         Param # </span>┃\n",
       "┡━━━━━━━━━━━━━━━━━━━━━━━━━━━━━━━━━━━━━━╇━━━━━━━━━━━━━━━━━━━━━━━━━━━━━╇━━━━━━━━━━━━━━━━━┩\n",
       "│ conv1d_5 (<span style=\"color: #0087ff; text-decoration-color: #0087ff\">Conv1D</span>)                    │ (<span style=\"color: #00d7ff; text-decoration-color: #00d7ff\">None</span>, <span style=\"color: #00af00; text-decoration-color: #00af00\">351</span>, <span style=\"color: #00af00; text-decoration-color: #00af00\">32</span>)             │           <span style=\"color: #00af00; text-decoration-color: #00af00\">4,832</span> │\n",
       "├──────────────────────────────────────┼─────────────────────────────┼─────────────────┤\n",
       "│ max_pooling1d_5 (<span style=\"color: #0087ff; text-decoration-color: #0087ff\">MaxPooling1D</span>)       │ (<span style=\"color: #00d7ff; text-decoration-color: #00d7ff\">None</span>, <span style=\"color: #00af00; text-decoration-color: #00af00\">175</span>, <span style=\"color: #00af00; text-decoration-color: #00af00\">32</span>)             │               <span style=\"color: #00af00; text-decoration-color: #00af00\">0</span> │\n",
       "├──────────────────────────────────────┼─────────────────────────────┼─────────────────┤\n",
       "│ dropout_9 (<span style=\"color: #0087ff; text-decoration-color: #0087ff\">Dropout</span>)                  │ (<span style=\"color: #00d7ff; text-decoration-color: #00d7ff\">None</span>, <span style=\"color: #00af00; text-decoration-color: #00af00\">175</span>, <span style=\"color: #00af00; text-decoration-color: #00af00\">32</span>)             │               <span style=\"color: #00af00; text-decoration-color: #00af00\">0</span> │\n",
       "├──────────────────────────────────────┼─────────────────────────────┼─────────────────┤\n",
       "│ conv1d_6 (<span style=\"color: #0087ff; text-decoration-color: #0087ff\">Conv1D</span>)                    │ (<span style=\"color: #00d7ff; text-decoration-color: #00d7ff\">None</span>, <span style=\"color: #00af00; text-decoration-color: #00af00\">126</span>, <span style=\"color: #00af00; text-decoration-color: #00af00\">64</span>)             │         <span style=\"color: #00af00; text-decoration-color: #00af00\">102,464</span> │\n",
       "├──────────────────────────────────────┼─────────────────────────────┼─────────────────┤\n",
       "│ max_pooling1d_6 (<span style=\"color: #0087ff; text-decoration-color: #0087ff\">MaxPooling1D</span>)       │ (<span style=\"color: #00d7ff; text-decoration-color: #00d7ff\">None</span>, <span style=\"color: #00af00; text-decoration-color: #00af00\">63</span>, <span style=\"color: #00af00; text-decoration-color: #00af00\">64</span>)              │               <span style=\"color: #00af00; text-decoration-color: #00af00\">0</span> │\n",
       "├──────────────────────────────────────┼─────────────────────────────┼─────────────────┤\n",
       "│ dropout_10 (<span style=\"color: #0087ff; text-decoration-color: #0087ff\">Dropout</span>)                 │ (<span style=\"color: #00d7ff; text-decoration-color: #00d7ff\">None</span>, <span style=\"color: #00af00; text-decoration-color: #00af00\">63</span>, <span style=\"color: #00af00; text-decoration-color: #00af00\">64</span>)              │               <span style=\"color: #00af00; text-decoration-color: #00af00\">0</span> │\n",
       "├──────────────────────────────────────┼─────────────────────────────┼─────────────────┤\n",
       "│ lstm_4 (<span style=\"color: #0087ff; text-decoration-color: #0087ff\">LSTM</span>)                        │ (<span style=\"color: #00d7ff; text-decoration-color: #00d7ff\">None</span>, <span style=\"color: #00af00; text-decoration-color: #00af00\">128</span>)                 │          <span style=\"color: #00af00; text-decoration-color: #00af00\">98,816</span> │\n",
       "├──────────────────────────────────────┼─────────────────────────────┼─────────────────┤\n",
       "│ dropout_11 (<span style=\"color: #0087ff; text-decoration-color: #0087ff\">Dropout</span>)                 │ (<span style=\"color: #00d7ff; text-decoration-color: #00d7ff\">None</span>, <span style=\"color: #00af00; text-decoration-color: #00af00\">128</span>)                 │               <span style=\"color: #00af00; text-decoration-color: #00af00\">0</span> │\n",
       "├──────────────────────────────────────┼─────────────────────────────┼─────────────────┤\n",
       "│ flatten_4 (<span style=\"color: #0087ff; text-decoration-color: #0087ff\">Flatten</span>)                  │ (<span style=\"color: #00d7ff; text-decoration-color: #00d7ff\">None</span>, <span style=\"color: #00af00; text-decoration-color: #00af00\">128</span>)                 │               <span style=\"color: #00af00; text-decoration-color: #00af00\">0</span> │\n",
       "├──────────────────────────────────────┼─────────────────────────────┼─────────────────┤\n",
       "│ dense_4 (<span style=\"color: #0087ff; text-decoration-color: #0087ff\">Dense</span>)                      │ (<span style=\"color: #00d7ff; text-decoration-color: #00d7ff\">None</span>, <span style=\"color: #00af00; text-decoration-color: #00af00\">3</span>)                   │             <span style=\"color: #00af00; text-decoration-color: #00af00\">387</span> │\n",
       "└──────────────────────────────────────┴─────────────────────────────┴─────────────────┘\n",
       "</pre>\n"
      ],
      "text/plain": [
       "┏━━━━━━━━━━━━━━━━━━━━━━━━━━━━━━━━━━━━━━┳━━━━━━━━━━━━━━━━━━━━━━━━━━━━━┳━━━━━━━━━━━━━━━━━┓\n",
       "┃\u001b[1m \u001b[0m\u001b[1mLayer (type)                        \u001b[0m\u001b[1m \u001b[0m┃\u001b[1m \u001b[0m\u001b[1mOutput Shape               \u001b[0m\u001b[1m \u001b[0m┃\u001b[1m \u001b[0m\u001b[1m        Param #\u001b[0m\u001b[1m \u001b[0m┃\n",
       "┡━━━━━━━━━━━━━━━━━━━━━━━━━━━━━━━━━━━━━━╇━━━━━━━━━━━━━━━━━━━━━━━━━━━━━╇━━━━━━━━━━━━━━━━━┩\n",
       "│ conv1d_5 (\u001b[38;5;33mConv1D\u001b[0m)                    │ (\u001b[38;5;45mNone\u001b[0m, \u001b[38;5;34m351\u001b[0m, \u001b[38;5;34m32\u001b[0m)             │           \u001b[38;5;34m4,832\u001b[0m │\n",
       "├──────────────────────────────────────┼─────────────────────────────┼─────────────────┤\n",
       "│ max_pooling1d_5 (\u001b[38;5;33mMaxPooling1D\u001b[0m)       │ (\u001b[38;5;45mNone\u001b[0m, \u001b[38;5;34m175\u001b[0m, \u001b[38;5;34m32\u001b[0m)             │               \u001b[38;5;34m0\u001b[0m │\n",
       "├──────────────────────────────────────┼─────────────────────────────┼─────────────────┤\n",
       "│ dropout_9 (\u001b[38;5;33mDropout\u001b[0m)                  │ (\u001b[38;5;45mNone\u001b[0m, \u001b[38;5;34m175\u001b[0m, \u001b[38;5;34m32\u001b[0m)             │               \u001b[38;5;34m0\u001b[0m │\n",
       "├──────────────────────────────────────┼─────────────────────────────┼─────────────────┤\n",
       "│ conv1d_6 (\u001b[38;5;33mConv1D\u001b[0m)                    │ (\u001b[38;5;45mNone\u001b[0m, \u001b[38;5;34m126\u001b[0m, \u001b[38;5;34m64\u001b[0m)             │         \u001b[38;5;34m102,464\u001b[0m │\n",
       "├──────────────────────────────────────┼─────────────────────────────┼─────────────────┤\n",
       "│ max_pooling1d_6 (\u001b[38;5;33mMaxPooling1D\u001b[0m)       │ (\u001b[38;5;45mNone\u001b[0m, \u001b[38;5;34m63\u001b[0m, \u001b[38;5;34m64\u001b[0m)              │               \u001b[38;5;34m0\u001b[0m │\n",
       "├──────────────────────────────────────┼─────────────────────────────┼─────────────────┤\n",
       "│ dropout_10 (\u001b[38;5;33mDropout\u001b[0m)                 │ (\u001b[38;5;45mNone\u001b[0m, \u001b[38;5;34m63\u001b[0m, \u001b[38;5;34m64\u001b[0m)              │               \u001b[38;5;34m0\u001b[0m │\n",
       "├──────────────────────────────────────┼─────────────────────────────┼─────────────────┤\n",
       "│ lstm_4 (\u001b[38;5;33mLSTM\u001b[0m)                        │ (\u001b[38;5;45mNone\u001b[0m, \u001b[38;5;34m128\u001b[0m)                 │          \u001b[38;5;34m98,816\u001b[0m │\n",
       "├──────────────────────────────────────┼─────────────────────────────┼─────────────────┤\n",
       "│ dropout_11 (\u001b[38;5;33mDropout\u001b[0m)                 │ (\u001b[38;5;45mNone\u001b[0m, \u001b[38;5;34m128\u001b[0m)                 │               \u001b[38;5;34m0\u001b[0m │\n",
       "├──────────────────────────────────────┼─────────────────────────────┼─────────────────┤\n",
       "│ flatten_4 (\u001b[38;5;33mFlatten\u001b[0m)                  │ (\u001b[38;5;45mNone\u001b[0m, \u001b[38;5;34m128\u001b[0m)                 │               \u001b[38;5;34m0\u001b[0m │\n",
       "├──────────────────────────────────────┼─────────────────────────────┼─────────────────┤\n",
       "│ dense_4 (\u001b[38;5;33mDense\u001b[0m)                      │ (\u001b[38;5;45mNone\u001b[0m, \u001b[38;5;34m3\u001b[0m)                   │             \u001b[38;5;34m387\u001b[0m │\n",
       "└──────────────────────────────────────┴─────────────────────────────┴─────────────────┘\n"
      ]
     },
     "metadata": {},
     "output_type": "display_data"
    },
    {
     "data": {
      "text/html": [
       "<pre style=\"white-space:pre;overflow-x:auto;line-height:normal;font-family:Menlo,'DejaVu Sans Mono',consolas,'Courier New',monospace\"><span style=\"font-weight: bold\"> Total params: </span><span style=\"color: #00af00; text-decoration-color: #00af00\">206,499</span> (806.64 KB)\n",
       "</pre>\n"
      ],
      "text/plain": [
       "\u001b[1m Total params: \u001b[0m\u001b[38;5;34m206,499\u001b[0m (806.64 KB)\n"
      ]
     },
     "metadata": {},
     "output_type": "display_data"
    },
    {
     "data": {
      "text/html": [
       "<pre style=\"white-space:pre;overflow-x:auto;line-height:normal;font-family:Menlo,'DejaVu Sans Mono',consolas,'Courier New',monospace\"><span style=\"font-weight: bold\"> Trainable params: </span><span style=\"color: #00af00; text-decoration-color: #00af00\">206,499</span> (806.64 KB)\n",
       "</pre>\n"
      ],
      "text/plain": [
       "\u001b[1m Trainable params: \u001b[0m\u001b[38;5;34m206,499\u001b[0m (806.64 KB)\n"
      ]
     },
     "metadata": {},
     "output_type": "display_data"
    },
    {
     "data": {
      "text/html": [
       "<pre style=\"white-space:pre;overflow-x:auto;line-height:normal;font-family:Menlo,'DejaVu Sans Mono',consolas,'Courier New',monospace\"><span style=\"font-weight: bold\"> Non-trainable params: </span><span style=\"color: #00af00; text-decoration-color: #00af00\">0</span> (0.00 B)\n",
       "</pre>\n"
      ],
      "text/plain": [
       "\u001b[1m Non-trainable params: \u001b[0m\u001b[38;5;34m0\u001b[0m (0.00 B)\n"
      ]
     },
     "metadata": {},
     "output_type": "display_data"
    },
    {
     "name": "stdout",
     "output_type": "stream",
     "text": [
      "Epoch 1/10\n",
      "\u001b[1m789/789\u001b[0m \u001b[32m━━━━━━━━━━━━━━━━━━━━\u001b[0m\u001b[37m\u001b[0m \u001b[1m32s\u001b[0m 37ms/step - accuracy: 0.8976 - loss: 0.3358 - val_accuracy: 0.9191 - val_loss: 0.2417\n",
      "Epoch 2/10\n",
      "\u001b[1m789/789\u001b[0m \u001b[32m━━━━━━━━━━━━━━━━━━━━\u001b[0m\u001b[37m\u001b[0m \u001b[1m33s\u001b[0m 41ms/step - accuracy: 0.9173 - loss: 0.2480 - val_accuracy: 0.9188 - val_loss: 0.2178\n",
      "Epoch 3/10\n",
      "\u001b[1m789/789\u001b[0m \u001b[32m━━━━━━━━━━━━━━━━━━━━\u001b[0m\u001b[37m\u001b[0m \u001b[1m34s\u001b[0m 43ms/step - accuracy: 0.9208 - loss: 0.2219 - val_accuracy: 0.9209 - val_loss: 0.2044\n",
      "Epoch 4/10\n",
      "\u001b[1m789/789\u001b[0m \u001b[32m━━━━━━━━━━━━━━━━━━━━\u001b[0m\u001b[37m\u001b[0m \u001b[1m34s\u001b[0m 43ms/step - accuracy: 0.9254 - loss: 0.2038 - val_accuracy: 0.9222 - val_loss: 0.2118\n",
      "Epoch 5/10\n",
      "\u001b[1m789/789\u001b[0m \u001b[32m━━━━━━━━━━━━━━━━━━━━\u001b[0m\u001b[37m\u001b[0m \u001b[1m33s\u001b[0m 42ms/step - accuracy: 0.9266 - loss: 0.1951 - val_accuracy: 0.9236 - val_loss: 0.1986\n",
      "Epoch 6/10\n",
      "\u001b[1m789/789\u001b[0m \u001b[32m━━━━━━━━━━━━━━━━━━━━\u001b[0m\u001b[37m\u001b[0m \u001b[1m34s\u001b[0m 44ms/step - accuracy: 0.9278 - loss: 0.1896 - val_accuracy: 0.9252 - val_loss: 0.1963\n",
      "Epoch 7/10\n",
      "\u001b[1m789/789\u001b[0m \u001b[32m━━━━━━━━━━━━━━━━━━━━\u001b[0m\u001b[37m\u001b[0m \u001b[1m35s\u001b[0m 44ms/step - accuracy: 0.9266 - loss: 0.1890 - val_accuracy: 0.9234 - val_loss: 0.1937\n",
      "Epoch 8/10\n",
      "\u001b[1m789/789\u001b[0m \u001b[32m━━━━━━━━━━━━━━━━━━━━\u001b[0m\u001b[37m\u001b[0m \u001b[1m35s\u001b[0m 45ms/step - accuracy: 0.9290 - loss: 0.1867 - val_accuracy: 0.9226 - val_loss: 0.1981\n",
      "Epoch 9/10\n",
      "\u001b[1m789/789\u001b[0m \u001b[32m━━━━━━━━━━━━━━━━━━━━\u001b[0m\u001b[37m\u001b[0m \u001b[1m34s\u001b[0m 44ms/step - accuracy: 0.9287 - loss: 0.1835 - val_accuracy: 0.9225 - val_loss: 0.1964\n",
      "Epoch 10/10\n",
      "\u001b[1m789/789\u001b[0m \u001b[32m━━━━━━━━━━━━━━━━━━━━\u001b[0m\u001b[37m\u001b[0m \u001b[1m34s\u001b[0m 43ms/step - accuracy: 0.9264 - loss: 0.1871 - val_accuracy: 0.9253 - val_loss: 0.1910\n",
      "\u001b[1m198/198\u001b[0m \u001b[32m━━━━━━━━━━━━━━━━━━━━\u001b[0m\u001b[37m\u001b[0m \u001b[1m3s\u001b[0m 14ms/step - accuracy: 0.9254 - loss: 0.1925\n"
     ]
    },
    {
     "data": {
      "text/plain": [
       "[0.1910426914691925, 0.9253210425376892]"
      ]
     },
     "execution_count": 19,
     "metadata": {},
     "output_type": "execute_result"
    }
   ],
   "source": [
    "model = Sequential([\n",
    "    Input(shape=(400, 3)),  # Входной размер (window_size, num_channels)\n",
    "    \n",
    "    # CNN блок\n",
    "    Conv1D(filters=32, kernel_size=50, activation='relu'),\n",
    "    MaxPooling1D(pool_size=2),\n",
    "    Dropout(0.3),\n",
    "    Conv1D(filters=64, kernel_size=50, activation='relu'),\n",
    "    MaxPooling1D(pool_size=2),\n",
    "    Dropout(0.3),\n",
    "    \n",
    "    # LSTM слой\n",
    "    LSTM(128, return_sequences=False),\n",
    "    \n",
    "    # Полносвязный блок\n",
    "    Dropout(0.4),\n",
    "    Flatten(),\n",
    "    Dense(3, activation='softmax')  # 3 класса для классификации\n",
    "])\n",
    "\n",
    "# Компиляция модели\n",
    "model.compile(optimizer='adam', loss='sparse_categorical_crossentropy', metrics=['accuracy'])\n",
    "model.summary()\n",
    "# Обучение модели\n",
    "history = model.fit(X_train, y_train, epochs=10, batch_size=32, validation_data=(X_val, y_val))\n",
    "\n",
    "# Оценка модели\n",
    "model.evaluate(X_val, y_val)"
   ]
  },
  {
   "cell_type": "code",
   "execution_count": 23,
   "id": "fa5e11b6-ec36-49b6-a75f-98b5a4c28838",
   "metadata": {},
   "outputs": [],
   "source": [
    "model.save('cnnlstm_model.keras')"
   ]
  },
  {
   "cell_type": "code",
   "execution_count": 20,
   "id": "2c3e91c4-0981-4f98-b2f5-f6b31adacbde",
   "metadata": {},
   "outputs": [
    {
     "name": "stdout",
     "output_type": "stream",
     "text": [
      "Сигналов обнаружено:  3\n",
      "Размечено 0.59 данных\n"
     ]
    },
    {
     "name": "stderr",
     "output_type": "stream",
     "text": [
      "C:\\Users\\HUAWEI\\AppData\\Local\\Temp\\ipykernel_21104\\3829786701.py:62: FutureWarning: Downcasting behavior in `replace` is deprecated and will be removed in a future version. To retain the old behavior, explicitly call `result.infer_objects(copy=False)`. To opt-in to the future behavior, set `pd.set_option('future.no_silent_downcasting', True)`\n",
      "  test['target'] = test['target'].replace({'ds': 0, 'is': 1, 'swd': 2})\n"
     ]
    }
   ],
   "source": [
    "def get_dataset(name):\n",
    "    #Загружаем датасет\n",
    "    def read_dataset(file_path):\n",
    "        edf_file = pyedflib.EdfReader(file_path)\n",
    "        n_signals = edf_file.signals_in_file\n",
    "        signal_labels = edf_file.getSignalLabels()\n",
    "        signals = [edf_file.readSignal(i) for i in range(n_signals)]\n",
    "        edf_file.close()\n",
    "        print('Сигналов обнаружено: ', n_signals)\n",
    "        return signal_labels, signals\n",
    "\n",
    "    def read_txt_markers(file_path):\n",
    "        with open(file_path, 'r') as file:\n",
    "            labels = file.read().splitlines()\n",
    "        return labels\n",
    "    \n",
    "    def convert_to_sec(time: str):\n",
    "        s = list(map(int, time.split(':')))\n",
    "        return s[0]*3600 + s[1] * 60 + s[2]\n",
    "\n",
    "    def get_markered_dataset(data_file_path, labels_file_path):\n",
    "        signal_labels, signals = read_dataset(data_file_path)\n",
    "        signals = np.array(signals)\n",
    "        data = pd.DataFrame(signals).T.rename(columns={i: signal_labels[i] for i in range(len(signal_labels))})\n",
    "        \n",
    "        markers = read_txt_markers(labels_file_path)[1:]\n",
    "        markers = [line.split('\\t') for line in markers]\n",
    "        markers = [[line[0], convert_to_sec(line[2])*400, line[1]] for line in markers]\n",
    "        \n",
    "        markers_df = pd.DataFrame(markers, columns=['id', 'time', 'marker'])\n",
    "        markers_df['time'] = markers_df['time'].astype(int)\n",
    "    \n",
    "        data['target'] = None\n",
    "    \n",
    "        for i in range(0, len(markers_df), 2):\n",
    "            start_marker = markers_df.iloc[i]\n",
    "            end_marker = markers_df.iloc[i + 1]\n",
    "            if start_marker['marker'].startswith('ds'):\n",
    "                mask = list(range(start_marker.time, end_marker.time))\n",
    "                data.loc[mask, 'target'] = 'ds'\n",
    "            elif start_marker['marker'].startswith('is'):\n",
    "                mask = list(range(start_marker.time, end_marker.time))\n",
    "                data.loc[mask, 'target'] = 'is'\n",
    "            elif start_marker['marker'].startswith('swd'):\n",
    "                mask = list(range(start_marker.time, end_marker.time))\n",
    "                data.loc[mask, 'target'] = 'swd'\n",
    "        percentage_marked = data[data['target'].notna()].shape[0]/data.shape[0]\n",
    "        print(f'Размечено {round(percentage_marked, 2)} данных')\n",
    "        return data\n",
    "    \n",
    "    def load_marked_dataset(file, folder='ECoG_fully_marked_(4+2 files, 6 h each)', base_path=r\"Downloads/train_dataset_minzdrav_train\"):\n",
    "        dataset_file_path = fr\"{base_path}/{folder}/{file}.edf\"\n",
    "        markers_file_path = fr\"{base_path}/{folder}/{file}.txt\"\n",
    "        dataset = get_markered_dataset(dataset_file_path, markers_file_path)\n",
    "        return dataset\n",
    "\n",
    "    dataset = load_marked_dataset(name)\n",
    "    dataset = dataset[dataset['target'].notna()]\n",
    "    return dataset\n",
    "\n",
    "test = get_dataset('Ati4x3_9m_Xyl01(Pharm!)_6h')\n",
    "test['target'] = test['target'].replace({'ds': 0, 'is': 1, 'swd': 2})\n",
    "X_test = test.drop(columns=['target'])\n",
    "y_test = test['target'].values"
   ]
  },
  {
   "cell_type": "code",
   "execution_count": 21,
   "id": "9295ae6b-2ff9-4707-a503-9f9b5d5ca5a2",
   "metadata": {},
   "outputs": [
    {
     "name": "stdout",
     "output_type": "stream",
     "text": [
      "\u001b[1m400/400\u001b[0m \u001b[32m━━━━━━━━━━━━━━━━━━━━\u001b[0m\u001b[37m\u001b[0m \u001b[1m4s\u001b[0m 9ms/step - accuracy: 0.9671 - loss: 0.1869\n",
      "Точность на всём тестовом наборе: 92.05%\n",
      "Потери (loss) на всём тестовом наборе: 0.4597\n"
     ]
    }
   ],
   "source": [
    "window_size = 400\n",
    "num_channels = 3\n",
    "\n",
    "# Убедимся, что количество строк в тестовом наборе делится на размер окна\n",
    "num_samples = (len(test) // window_size) * window_size\n",
    "test = test.iloc[:num_samples]  # Обрезаем лишние строки\n",
    "\n",
    "# Преобразуем тестовые данные в форму (количество окон, 800, 3)\n",
    "X_test = test.drop(columns=['target']).values.reshape(-1, window_size, num_channels)\n",
    "y_test = test['target'].values[:num_samples:window_size]  # Берем метки для каждого окна\n",
    "\n",
    "# Оценка модели на всём тестовом наборе\n",
    "test_loss, test_accuracy = model.evaluate(X_test, y_test, batch_size=32)\n",
    "print(f\"Точность на всём тестовом наборе: {test_accuracy * 100:.2f}%\")\n",
    "print(f\"Потери (loss) на всём тестовом наборе: {test_loss:.4f}\")"
   ]
  },
  {
   "cell_type": "code",
   "execution_count": 22,
   "id": "ea92d330-a027-4427-a685-0dcd9a26c26d",
   "metadata": {},
   "outputs": [
    {
     "name": "stdout",
     "output_type": "stream",
     "text": [
      "\u001b[1m267/267\u001b[0m \u001b[32m━━━━━━━━━━━━━━━━━━━━\u001b[0m\u001b[37m\u001b[0m \u001b[1m1s\u001b[0m 3ms/step - accuracy: 0.9522 - loss: 0.2300\n",
      "Точность на всём тестовом наборе: 92.48%\n",
      "Потери (loss) на всём тестовом наборе: 0.2969\n"
     ]
    }
   ],
   "source": [
    "df = pd.read_csv('valid_file.csv')\n",
    "df = df.drop(['Unnamed: 0'], axis=1)\n",
    "\n",
    "# Размер окна и количество каналов, как в обучении\n",
    "window_size = 200\n",
    "num_channels = 3\n",
    "\n",
    "# Убедимся, что количество строк в тестовом наборе делится на размер окна\n",
    "num_samples = (len(df) // window_size) * window_size\n",
    "df = df.iloc[:num_samples]  # Обрезаем лишние строки\n",
    "\n",
    "# Преобразуем тестовые данные в форму (количество окон, 800, 3)\n",
    "X_test = df.drop(columns=['target']).values.reshape(-1, window_size, num_channels)\n",
    "y_test = df['target'].values[:num_samples:window_size]  # Берем метки для каждого окна\n",
    "\n",
    "# Оценка модели на всём тестовом наборе\n",
    "test_loss, test_accuracy = model.evaluate(X_test, y_test, batch_size=32)\n",
    "print(f\"Точность на всём тестовом наборе: {test_accuracy * 100:.2f}%\")\n",
    "print(f\"Потери (loss) на всём тестовом наборе: {test_loss:.4f}\")"
   ]
  },
  {
   "cell_type": "code",
   "execution_count": null,
   "id": "b33b8875-b8ca-43f0-b09c-2a8ed2af52fe",
   "metadata": {},
   "outputs": [],
   "source": []
  }
 ],
 "metadata": {
  "kernelspec": {
   "display_name": "Python 3 (ipykernel)",
   "language": "python",
   "name": "python3"
  },
  "language_info": {
   "codemirror_mode": {
    "name": "ipython",
    "version": 3
   },
   "file_extension": ".py",
   "mimetype": "text/x-python",
   "name": "python",
   "nbconvert_exporter": "python",
   "pygments_lexer": "ipython3",
   "version": "3.12.4"
  }
 },
 "nbformat": 4,
 "nbformat_minor": 5
}
